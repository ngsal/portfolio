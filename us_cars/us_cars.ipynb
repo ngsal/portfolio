{
 "cells": [
  {
   "cell_type": "markdown",
   "metadata": {},
   "source": [
    "### Import Essentials"
   ]
  },
  {
   "cell_type": "code",
   "execution_count": 1,
   "metadata": {},
   "outputs": [],
   "source": [
    "import numpy as np\n",
    "import plotly.express as px\n",
    "import pandas as pd\n",
    "import seaborn as sns\n",
    "import matplotlib.pyplot as plt \n",
    "import os"
   ]
  },
  {
   "cell_type": "markdown",
   "metadata": {},
   "source": [
    "### Read the file"
   ]
  },
  {
   "cell_type": "code",
   "execution_count": 2,
   "metadata": {},
   "outputs": [
    {
     "data": {
      "text/html": [
       "<div>\n",
       "<style scoped>\n",
       "    .dataframe tbody tr th:only-of-type {\n",
       "        vertical-align: middle;\n",
       "    }\n",
       "\n",
       "    .dataframe tbody tr th {\n",
       "        vertical-align: top;\n",
       "    }\n",
       "\n",
       "    .dataframe thead th {\n",
       "        text-align: right;\n",
       "    }\n",
       "</style>\n",
       "<table border=\"1\" class=\"dataframe\">\n",
       "  <thead>\n",
       "    <tr style=\"text-align: right;\">\n",
       "      <th></th>\n",
       "      <th>Unnamed: 0</th>\n",
       "      <th>price</th>\n",
       "      <th>brand</th>\n",
       "      <th>model</th>\n",
       "      <th>year</th>\n",
       "      <th>title_status</th>\n",
       "      <th>mileage</th>\n",
       "      <th>color</th>\n",
       "      <th>vin</th>\n",
       "      <th>lot</th>\n",
       "      <th>state</th>\n",
       "      <th>country</th>\n",
       "      <th>condition</th>\n",
       "    </tr>\n",
       "  </thead>\n",
       "  <tbody>\n",
       "    <tr>\n",
       "      <th>0</th>\n",
       "      <td>0</td>\n",
       "      <td>6300</td>\n",
       "      <td>toyota</td>\n",
       "      <td>cruiser</td>\n",
       "      <td>2008</td>\n",
       "      <td>clean vehicle</td>\n",
       "      <td>274117.0</td>\n",
       "      <td>black</td>\n",
       "      <td>jtezu11f88k007763</td>\n",
       "      <td>159348797</td>\n",
       "      <td>new jersey</td>\n",
       "      <td>usa</td>\n",
       "      <td>10 days left</td>\n",
       "    </tr>\n",
       "    <tr>\n",
       "      <th>1</th>\n",
       "      <td>1</td>\n",
       "      <td>2899</td>\n",
       "      <td>ford</td>\n",
       "      <td>se</td>\n",
       "      <td>2011</td>\n",
       "      <td>clean vehicle</td>\n",
       "      <td>190552.0</td>\n",
       "      <td>silver</td>\n",
       "      <td>2fmdk3gc4bbb02217</td>\n",
       "      <td>166951262</td>\n",
       "      <td>tennessee</td>\n",
       "      <td>usa</td>\n",
       "      <td>6 days left</td>\n",
       "    </tr>\n",
       "    <tr>\n",
       "      <th>2</th>\n",
       "      <td>2</td>\n",
       "      <td>5350</td>\n",
       "      <td>dodge</td>\n",
       "      <td>mpv</td>\n",
       "      <td>2018</td>\n",
       "      <td>clean vehicle</td>\n",
       "      <td>39590.0</td>\n",
       "      <td>silver</td>\n",
       "      <td>3c4pdcgg5jt346413</td>\n",
       "      <td>167655728</td>\n",
       "      <td>georgia</td>\n",
       "      <td>usa</td>\n",
       "      <td>2 days left</td>\n",
       "    </tr>\n",
       "    <tr>\n",
       "      <th>3</th>\n",
       "      <td>3</td>\n",
       "      <td>25000</td>\n",
       "      <td>ford</td>\n",
       "      <td>door</td>\n",
       "      <td>2014</td>\n",
       "      <td>clean vehicle</td>\n",
       "      <td>64146.0</td>\n",
       "      <td>blue</td>\n",
       "      <td>1ftfw1et4efc23745</td>\n",
       "      <td>167753855</td>\n",
       "      <td>virginia</td>\n",
       "      <td>usa</td>\n",
       "      <td>22 hours left</td>\n",
       "    </tr>\n",
       "    <tr>\n",
       "      <th>4</th>\n",
       "      <td>4</td>\n",
       "      <td>27700</td>\n",
       "      <td>chevrolet</td>\n",
       "      <td>1500</td>\n",
       "      <td>2018</td>\n",
       "      <td>clean vehicle</td>\n",
       "      <td>6654.0</td>\n",
       "      <td>red</td>\n",
       "      <td>3gcpcrec2jg473991</td>\n",
       "      <td>167763266</td>\n",
       "      <td>florida</td>\n",
       "      <td>usa</td>\n",
       "      <td>22 hours left</td>\n",
       "    </tr>\n",
       "  </tbody>\n",
       "</table>\n",
       "</div>"
      ],
      "text/plain": [
       "   Unnamed: 0  price      brand    model  year   title_status   mileage  \\\n",
       "0           0   6300     toyota  cruiser  2008  clean vehicle  274117.0   \n",
       "1           1   2899       ford       se  2011  clean vehicle  190552.0   \n",
       "2           2   5350      dodge      mpv  2018  clean vehicle   39590.0   \n",
       "3           3  25000       ford     door  2014  clean vehicle   64146.0   \n",
       "4           4  27700  chevrolet     1500  2018  clean vehicle    6654.0   \n",
       "\n",
       "    color                  vin        lot       state country      condition  \n",
       "0   black    jtezu11f88k007763  159348797  new jersey     usa   10 days left  \n",
       "1  silver    2fmdk3gc4bbb02217  166951262   tennessee     usa    6 days left  \n",
       "2  silver    3c4pdcgg5jt346413  167655728     georgia     usa    2 days left  \n",
       "3    blue    1ftfw1et4efc23745  167753855    virginia     usa  22 hours left  \n",
       "4     red    3gcpcrec2jg473991  167763266     florida     usa  22 hours left  "
      ]
     },
     "execution_count": 2,
     "metadata": {},
     "output_type": "execute_result"
    }
   ],
   "source": [
    "car_data=pd.read_csv(\"USA_cars_datasets.csv\")\n",
    "\n",
    "#Reach to the first 5 lines\n",
    "car_data.head()"
   ]
  },
  {
   "cell_type": "markdown",
   "metadata": {},
   "source": [
    "### Delete the Extra numbering column \"Unnamed: 0\""
   ]
  },
  {
   "cell_type": "code",
   "execution_count": 3,
   "metadata": {},
   "outputs": [
    {
     "data": {
      "text/html": [
       "<div>\n",
       "<style scoped>\n",
       "    .dataframe tbody tr th:only-of-type {\n",
       "        vertical-align: middle;\n",
       "    }\n",
       "\n",
       "    .dataframe tbody tr th {\n",
       "        vertical-align: top;\n",
       "    }\n",
       "\n",
       "    .dataframe thead th {\n",
       "        text-align: right;\n",
       "    }\n",
       "</style>\n",
       "<table border=\"1\" class=\"dataframe\">\n",
       "  <thead>\n",
       "    <tr style=\"text-align: right;\">\n",
       "      <th></th>\n",
       "      <th>price</th>\n",
       "      <th>brand</th>\n",
       "      <th>model</th>\n",
       "      <th>year</th>\n",
       "      <th>title_status</th>\n",
       "      <th>mileage</th>\n",
       "      <th>color</th>\n",
       "      <th>vin</th>\n",
       "      <th>lot</th>\n",
       "      <th>state</th>\n",
       "      <th>country</th>\n",
       "      <th>condition</th>\n",
       "    </tr>\n",
       "  </thead>\n",
       "  <tbody>\n",
       "    <tr>\n",
       "      <th>0</th>\n",
       "      <td>6300</td>\n",
       "      <td>toyota</td>\n",
       "      <td>cruiser</td>\n",
       "      <td>2008</td>\n",
       "      <td>clean vehicle</td>\n",
       "      <td>274117.0</td>\n",
       "      <td>black</td>\n",
       "      <td>jtezu11f88k007763</td>\n",
       "      <td>159348797</td>\n",
       "      <td>new jersey</td>\n",
       "      <td>usa</td>\n",
       "      <td>10 days left</td>\n",
       "    </tr>\n",
       "    <tr>\n",
       "      <th>1</th>\n",
       "      <td>2899</td>\n",
       "      <td>ford</td>\n",
       "      <td>se</td>\n",
       "      <td>2011</td>\n",
       "      <td>clean vehicle</td>\n",
       "      <td>190552.0</td>\n",
       "      <td>silver</td>\n",
       "      <td>2fmdk3gc4bbb02217</td>\n",
       "      <td>166951262</td>\n",
       "      <td>tennessee</td>\n",
       "      <td>usa</td>\n",
       "      <td>6 days left</td>\n",
       "    </tr>\n",
       "    <tr>\n",
       "      <th>2</th>\n",
       "      <td>5350</td>\n",
       "      <td>dodge</td>\n",
       "      <td>mpv</td>\n",
       "      <td>2018</td>\n",
       "      <td>clean vehicle</td>\n",
       "      <td>39590.0</td>\n",
       "      <td>silver</td>\n",
       "      <td>3c4pdcgg5jt346413</td>\n",
       "      <td>167655728</td>\n",
       "      <td>georgia</td>\n",
       "      <td>usa</td>\n",
       "      <td>2 days left</td>\n",
       "    </tr>\n",
       "    <tr>\n",
       "      <th>3</th>\n",
       "      <td>25000</td>\n",
       "      <td>ford</td>\n",
       "      <td>door</td>\n",
       "      <td>2014</td>\n",
       "      <td>clean vehicle</td>\n",
       "      <td>64146.0</td>\n",
       "      <td>blue</td>\n",
       "      <td>1ftfw1et4efc23745</td>\n",
       "      <td>167753855</td>\n",
       "      <td>virginia</td>\n",
       "      <td>usa</td>\n",
       "      <td>22 hours left</td>\n",
       "    </tr>\n",
       "    <tr>\n",
       "      <th>4</th>\n",
       "      <td>27700</td>\n",
       "      <td>chevrolet</td>\n",
       "      <td>1500</td>\n",
       "      <td>2018</td>\n",
       "      <td>clean vehicle</td>\n",
       "      <td>6654.0</td>\n",
       "      <td>red</td>\n",
       "      <td>3gcpcrec2jg473991</td>\n",
       "      <td>167763266</td>\n",
       "      <td>florida</td>\n",
       "      <td>usa</td>\n",
       "      <td>22 hours left</td>\n",
       "    </tr>\n",
       "  </tbody>\n",
       "</table>\n",
       "</div>"
      ],
      "text/plain": [
       "   price      brand    model  year   title_status   mileage   color  \\\n",
       "0   6300     toyota  cruiser  2008  clean vehicle  274117.0   black   \n",
       "1   2899       ford       se  2011  clean vehicle  190552.0  silver   \n",
       "2   5350      dodge      mpv  2018  clean vehicle   39590.0  silver   \n",
       "3  25000       ford     door  2014  clean vehicle   64146.0    blue   \n",
       "4  27700  chevrolet     1500  2018  clean vehicle    6654.0     red   \n",
       "\n",
       "                   vin        lot       state country      condition  \n",
       "0    jtezu11f88k007763  159348797  new jersey     usa   10 days left  \n",
       "1    2fmdk3gc4bbb02217  166951262   tennessee     usa    6 days left  \n",
       "2    3c4pdcgg5jt346413  167655728     georgia     usa    2 days left  \n",
       "3    1ftfw1et4efc23745  167753855    virginia     usa  22 hours left  \n",
       "4    3gcpcrec2jg473991  167763266     florida     usa  22 hours left  "
      ]
     },
     "execution_count": 3,
     "metadata": {},
     "output_type": "execute_result"
    }
   ],
   "source": [
    "car_data = car_data.drop(columns = ['Unnamed: 0'])\n",
    "car_data.head()"
   ]
  },
  {
   "cell_type": "markdown",
   "metadata": {},
   "source": [
    "### Make a summary of statistical data"
   ]
  },
  {
   "cell_type": "code",
   "execution_count": 4,
   "metadata": {},
   "outputs": [
    {
     "data": {
      "text/html": [
       "<div>\n",
       "<style scoped>\n",
       "    .dataframe tbody tr th:only-of-type {\n",
       "        vertical-align: middle;\n",
       "    }\n",
       "\n",
       "    .dataframe tbody tr th {\n",
       "        vertical-align: top;\n",
       "    }\n",
       "\n",
       "    .dataframe thead th {\n",
       "        text-align: right;\n",
       "    }\n",
       "</style>\n",
       "<table border=\"1\" class=\"dataframe\">\n",
       "  <thead>\n",
       "    <tr style=\"text-align: right;\">\n",
       "      <th></th>\n",
       "      <th>count</th>\n",
       "      <th>mean</th>\n",
       "      <th>std</th>\n",
       "      <th>min</th>\n",
       "      <th>25%</th>\n",
       "      <th>50%</th>\n",
       "      <th>75%</th>\n",
       "      <th>max</th>\n",
       "    </tr>\n",
       "  </thead>\n",
       "  <tbody>\n",
       "    <tr>\n",
       "      <th>price</th>\n",
       "      <td>2499.0</td>\n",
       "      <td>1.876767e+04</td>\n",
       "      <td>12116.094936</td>\n",
       "      <td>0.0</td>\n",
       "      <td>10200.0</td>\n",
       "      <td>16900.0</td>\n",
       "      <td>25555.5</td>\n",
       "      <td>84900.0</td>\n",
       "    </tr>\n",
       "    <tr>\n",
       "      <th>year</th>\n",
       "      <td>2499.0</td>\n",
       "      <td>2.016714e+03</td>\n",
       "      <td>3.442656</td>\n",
       "      <td>1973.0</td>\n",
       "      <td>2016.0</td>\n",
       "      <td>2018.0</td>\n",
       "      <td>2019.0</td>\n",
       "      <td>2020.0</td>\n",
       "    </tr>\n",
       "    <tr>\n",
       "      <th>mileage</th>\n",
       "      <td>2499.0</td>\n",
       "      <td>5.229869e+04</td>\n",
       "      <td>59705.516356</td>\n",
       "      <td>0.0</td>\n",
       "      <td>21466.5</td>\n",
       "      <td>35365.0</td>\n",
       "      <td>63472.5</td>\n",
       "      <td>1017936.0</td>\n",
       "    </tr>\n",
       "    <tr>\n",
       "      <th>lot</th>\n",
       "      <td>2499.0</td>\n",
       "      <td>1.676914e+08</td>\n",
       "      <td>203877.210516</td>\n",
       "      <td>159348797.0</td>\n",
       "      <td>167625331.0</td>\n",
       "      <td>167745058.0</td>\n",
       "      <td>167779772.0</td>\n",
       "      <td>167805500.0</td>\n",
       "    </tr>\n",
       "  </tbody>\n",
       "</table>\n",
       "</div>"
      ],
      "text/plain": [
       "          count          mean            std          min          25%  \\\n",
       "price    2499.0  1.876767e+04   12116.094936          0.0      10200.0   \n",
       "year     2499.0  2.016714e+03       3.442656       1973.0       2016.0   \n",
       "mileage  2499.0  5.229869e+04   59705.516356          0.0      21466.5   \n",
       "lot      2499.0  1.676914e+08  203877.210516  159348797.0  167625331.0   \n",
       "\n",
       "                 50%          75%          max  \n",
       "price        16900.0      25555.5      84900.0  \n",
       "year          2018.0       2019.0       2020.0  \n",
       "mileage      35365.0      63472.5    1017936.0  \n",
       "lot      167745058.0  167779772.0  167805500.0  "
      ]
     },
     "execution_count": 4,
     "metadata": {},
     "output_type": "execute_result"
    }
   ],
   "source": [
    "#This generates a summary of statistical data for each numerical column in the DataFrame, but then applies the transpose operation (.T) to the result.\n",
    "car_data.describe().T"
   ]
  },
  {
   "cell_type": "markdown",
   "metadata": {},
   "source": [
    "<span style=\"font-size: 0.8em;\">We can get some info from the above table.\n",
    "for instance the minimum price is zero, which cannot be correct. we can replace it with an appropriate data.\n",
    "maximum price is $84,900\n",
    "most of the cars are produced after 2016. because the first quartile of year is 2016.\n",
    "the median of mileage is 35,360</span>"
   ]
  },
  {
   "cell_type": "markdown",
   "metadata": {},
   "source": [
    "### Columns names"
   ]
  },
  {
   "cell_type": "code",
   "execution_count": 5,
   "metadata": {},
   "outputs": [
    {
     "data": {
      "text/plain": [
       "Index(['price', 'brand', 'model', 'year', 'title_status', 'mileage', 'color',\n",
       "       'vin', 'lot', 'state', 'country', 'condition'],\n",
       "      dtype='object')"
      ]
     },
     "execution_count": 5,
     "metadata": {},
     "output_type": "execute_result"
    }
   ],
   "source": [
    "car_data.columns"
   ]
  },
  {
   "cell_type": "markdown",
   "metadata": {},
   "source": [
    "### Type of columns"
   ]
  },
  {
   "cell_type": "code",
   "execution_count": 6,
   "metadata": {},
   "outputs": [
    {
     "data": {
      "text/plain": [
       "price             int64\n",
       "brand            object\n",
       "model            object\n",
       "year              int64\n",
       "title_status     object\n",
       "mileage         float64\n",
       "color            object\n",
       "vin              object\n",
       "lot               int64\n",
       "state            object\n",
       "country          object\n",
       "condition        object\n",
       "dtype: object"
      ]
     },
     "execution_count": 6,
     "metadata": {},
     "output_type": "execute_result"
    }
   ],
   "source": [
    "car_data.dtypes"
   ]
  },
  {
   "cell_type": "markdown",
   "metadata": {},
   "source": [
    "### Replace the zero price cars with median price"
   ]
  },
  {
   "cell_type": "code",
   "execution_count": 7,
   "metadata": {},
   "outputs": [],
   "source": [
    "median_price = car_data['price'].median()\n",
    "#car_data['price'].replace(0,median_price,inplace=True)\n",
    "car_data.replace({'price': 0}, median_price, inplace=True)\n"
   ]
  },
  {
   "cell_type": "markdown",
   "metadata": {},
   "source": [
    "# Visualization"
   ]
  },
  {
   "cell_type": "markdown",
   "metadata": {},
   "source": [
    "### The Most Popular Brands"
   ]
  },
  {
   "cell_type": "code",
   "execution_count": 8,
   "metadata": {},
   "outputs": [
    {
     "data": {
      "application/vnd.plotly.v1+json": {
       "config": {
        "plotlyServerURL": "https://plot.ly"
       },
       "data": [
        {
         "alignmentgroup": "True",
         "hovertemplate": "brand=%{x}<br>count=%{y}<extra></extra>",
         "legendgroup": "",
         "marker": {
          "color": "#636efa",
          "pattern": {
           "shape": ""
          }
         },
         "name": "",
         "offsetgroup": "",
         "orientation": "v",
         "showlegend": false,
         "textposition": "outside",
         "texttemplate": "%{y}",
         "type": "bar",
         "x": [
          "ford",
          "dodge",
          "nissan",
          "chevrolet",
          "gmc",
          "jeep",
          "chrysler",
          "bmw",
          "hyundai",
          "buick"
         ],
         "xaxis": "x",
         "y": [
          1235,
          432,
          312,
          297,
          42,
          30,
          18,
          17,
          15,
          13
         ],
         "yaxis": "y"
        }
       ],
       "layout": {
        "barmode": "relative",
        "legend": {
         "tracegroupgap": 0
        },
        "template": {
         "data": {
          "bar": [
           {
            "error_x": {
             "color": "#2a3f5f"
            },
            "error_y": {
             "color": "#2a3f5f"
            },
            "marker": {
             "line": {
              "color": "#E5ECF6",
              "width": 0.5
             },
             "pattern": {
              "fillmode": "overlay",
              "size": 10,
              "solidity": 0.2
             }
            },
            "type": "bar"
           }
          ],
          "barpolar": [
           {
            "marker": {
             "line": {
              "color": "#E5ECF6",
              "width": 0.5
             },
             "pattern": {
              "fillmode": "overlay",
              "size": 10,
              "solidity": 0.2
             }
            },
            "type": "barpolar"
           }
          ],
          "carpet": [
           {
            "aaxis": {
             "endlinecolor": "#2a3f5f",
             "gridcolor": "white",
             "linecolor": "white",
             "minorgridcolor": "white",
             "startlinecolor": "#2a3f5f"
            },
            "baxis": {
             "endlinecolor": "#2a3f5f",
             "gridcolor": "white",
             "linecolor": "white",
             "minorgridcolor": "white",
             "startlinecolor": "#2a3f5f"
            },
            "type": "carpet"
           }
          ],
          "choropleth": [
           {
            "colorbar": {
             "outlinewidth": 0,
             "ticks": ""
            },
            "type": "choropleth"
           }
          ],
          "contour": [
           {
            "colorbar": {
             "outlinewidth": 0,
             "ticks": ""
            },
            "colorscale": [
             [
              0,
              "#0d0887"
             ],
             [
              0.1111111111111111,
              "#46039f"
             ],
             [
              0.2222222222222222,
              "#7201a8"
             ],
             [
              0.3333333333333333,
              "#9c179e"
             ],
             [
              0.4444444444444444,
              "#bd3786"
             ],
             [
              0.5555555555555556,
              "#d8576b"
             ],
             [
              0.6666666666666666,
              "#ed7953"
             ],
             [
              0.7777777777777778,
              "#fb9f3a"
             ],
             [
              0.8888888888888888,
              "#fdca26"
             ],
             [
              1,
              "#f0f921"
             ]
            ],
            "type": "contour"
           }
          ],
          "contourcarpet": [
           {
            "colorbar": {
             "outlinewidth": 0,
             "ticks": ""
            },
            "type": "contourcarpet"
           }
          ],
          "heatmap": [
           {
            "colorbar": {
             "outlinewidth": 0,
             "ticks": ""
            },
            "colorscale": [
             [
              0,
              "#0d0887"
             ],
             [
              0.1111111111111111,
              "#46039f"
             ],
             [
              0.2222222222222222,
              "#7201a8"
             ],
             [
              0.3333333333333333,
              "#9c179e"
             ],
             [
              0.4444444444444444,
              "#bd3786"
             ],
             [
              0.5555555555555556,
              "#d8576b"
             ],
             [
              0.6666666666666666,
              "#ed7953"
             ],
             [
              0.7777777777777778,
              "#fb9f3a"
             ],
             [
              0.8888888888888888,
              "#fdca26"
             ],
             [
              1,
              "#f0f921"
             ]
            ],
            "type": "heatmap"
           }
          ],
          "heatmapgl": [
           {
            "colorbar": {
             "outlinewidth": 0,
             "ticks": ""
            },
            "colorscale": [
             [
              0,
              "#0d0887"
             ],
             [
              0.1111111111111111,
              "#46039f"
             ],
             [
              0.2222222222222222,
              "#7201a8"
             ],
             [
              0.3333333333333333,
              "#9c179e"
             ],
             [
              0.4444444444444444,
              "#bd3786"
             ],
             [
              0.5555555555555556,
              "#d8576b"
             ],
             [
              0.6666666666666666,
              "#ed7953"
             ],
             [
              0.7777777777777778,
              "#fb9f3a"
             ],
             [
              0.8888888888888888,
              "#fdca26"
             ],
             [
              1,
              "#f0f921"
             ]
            ],
            "type": "heatmapgl"
           }
          ],
          "histogram": [
           {
            "marker": {
             "pattern": {
              "fillmode": "overlay",
              "size": 10,
              "solidity": 0.2
             }
            },
            "type": "histogram"
           }
          ],
          "histogram2d": [
           {
            "colorbar": {
             "outlinewidth": 0,
             "ticks": ""
            },
            "colorscale": [
             [
              0,
              "#0d0887"
             ],
             [
              0.1111111111111111,
              "#46039f"
             ],
             [
              0.2222222222222222,
              "#7201a8"
             ],
             [
              0.3333333333333333,
              "#9c179e"
             ],
             [
              0.4444444444444444,
              "#bd3786"
             ],
             [
              0.5555555555555556,
              "#d8576b"
             ],
             [
              0.6666666666666666,
              "#ed7953"
             ],
             [
              0.7777777777777778,
              "#fb9f3a"
             ],
             [
              0.8888888888888888,
              "#fdca26"
             ],
             [
              1,
              "#f0f921"
             ]
            ],
            "type": "histogram2d"
           }
          ],
          "histogram2dcontour": [
           {
            "colorbar": {
             "outlinewidth": 0,
             "ticks": ""
            },
            "colorscale": [
             [
              0,
              "#0d0887"
             ],
             [
              0.1111111111111111,
              "#46039f"
             ],
             [
              0.2222222222222222,
              "#7201a8"
             ],
             [
              0.3333333333333333,
              "#9c179e"
             ],
             [
              0.4444444444444444,
              "#bd3786"
             ],
             [
              0.5555555555555556,
              "#d8576b"
             ],
             [
              0.6666666666666666,
              "#ed7953"
             ],
             [
              0.7777777777777778,
              "#fb9f3a"
             ],
             [
              0.8888888888888888,
              "#fdca26"
             ],
             [
              1,
              "#f0f921"
             ]
            ],
            "type": "histogram2dcontour"
           }
          ],
          "mesh3d": [
           {
            "colorbar": {
             "outlinewidth": 0,
             "ticks": ""
            },
            "type": "mesh3d"
           }
          ],
          "parcoords": [
           {
            "line": {
             "colorbar": {
              "outlinewidth": 0,
              "ticks": ""
             }
            },
            "type": "parcoords"
           }
          ],
          "pie": [
           {
            "automargin": true,
            "type": "pie"
           }
          ],
          "scatter": [
           {
            "fillpattern": {
             "fillmode": "overlay",
             "size": 10,
             "solidity": 0.2
            },
            "type": "scatter"
           }
          ],
          "scatter3d": [
           {
            "line": {
             "colorbar": {
              "outlinewidth": 0,
              "ticks": ""
             }
            },
            "marker": {
             "colorbar": {
              "outlinewidth": 0,
              "ticks": ""
             }
            },
            "type": "scatter3d"
           }
          ],
          "scattercarpet": [
           {
            "marker": {
             "colorbar": {
              "outlinewidth": 0,
              "ticks": ""
             }
            },
            "type": "scattercarpet"
           }
          ],
          "scattergeo": [
           {
            "marker": {
             "colorbar": {
              "outlinewidth": 0,
              "ticks": ""
             }
            },
            "type": "scattergeo"
           }
          ],
          "scattergl": [
           {
            "marker": {
             "colorbar": {
              "outlinewidth": 0,
              "ticks": ""
             }
            },
            "type": "scattergl"
           }
          ],
          "scattermapbox": [
           {
            "marker": {
             "colorbar": {
              "outlinewidth": 0,
              "ticks": ""
             }
            },
            "type": "scattermapbox"
           }
          ],
          "scatterpolar": [
           {
            "marker": {
             "colorbar": {
              "outlinewidth": 0,
              "ticks": ""
             }
            },
            "type": "scatterpolar"
           }
          ],
          "scatterpolargl": [
           {
            "marker": {
             "colorbar": {
              "outlinewidth": 0,
              "ticks": ""
             }
            },
            "type": "scatterpolargl"
           }
          ],
          "scatterternary": [
           {
            "marker": {
             "colorbar": {
              "outlinewidth": 0,
              "ticks": ""
             }
            },
            "type": "scatterternary"
           }
          ],
          "surface": [
           {
            "colorbar": {
             "outlinewidth": 0,
             "ticks": ""
            },
            "colorscale": [
             [
              0,
              "#0d0887"
             ],
             [
              0.1111111111111111,
              "#46039f"
             ],
             [
              0.2222222222222222,
              "#7201a8"
             ],
             [
              0.3333333333333333,
              "#9c179e"
             ],
             [
              0.4444444444444444,
              "#bd3786"
             ],
             [
              0.5555555555555556,
              "#d8576b"
             ],
             [
              0.6666666666666666,
              "#ed7953"
             ],
             [
              0.7777777777777778,
              "#fb9f3a"
             ],
             [
              0.8888888888888888,
              "#fdca26"
             ],
             [
              1,
              "#f0f921"
             ]
            ],
            "type": "surface"
           }
          ],
          "table": [
           {
            "cells": {
             "fill": {
              "color": "#EBF0F8"
             },
             "line": {
              "color": "white"
             }
            },
            "header": {
             "fill": {
              "color": "#C8D4E3"
             },
             "line": {
              "color": "white"
             }
            },
            "type": "table"
           }
          ]
         },
         "layout": {
          "annotationdefaults": {
           "arrowcolor": "#2a3f5f",
           "arrowhead": 0,
           "arrowwidth": 1
          },
          "autotypenumbers": "strict",
          "coloraxis": {
           "colorbar": {
            "outlinewidth": 0,
            "ticks": ""
           }
          },
          "colorscale": {
           "diverging": [
            [
             0,
             "#8e0152"
            ],
            [
             0.1,
             "#c51b7d"
            ],
            [
             0.2,
             "#de77ae"
            ],
            [
             0.3,
             "#f1b6da"
            ],
            [
             0.4,
             "#fde0ef"
            ],
            [
             0.5,
             "#f7f7f7"
            ],
            [
             0.6,
             "#e6f5d0"
            ],
            [
             0.7,
             "#b8e186"
            ],
            [
             0.8,
             "#7fbc41"
            ],
            [
             0.9,
             "#4d9221"
            ],
            [
             1,
             "#276419"
            ]
           ],
           "sequential": [
            [
             0,
             "#0d0887"
            ],
            [
             0.1111111111111111,
             "#46039f"
            ],
            [
             0.2222222222222222,
             "#7201a8"
            ],
            [
             0.3333333333333333,
             "#9c179e"
            ],
            [
             0.4444444444444444,
             "#bd3786"
            ],
            [
             0.5555555555555556,
             "#d8576b"
            ],
            [
             0.6666666666666666,
             "#ed7953"
            ],
            [
             0.7777777777777778,
             "#fb9f3a"
            ],
            [
             0.8888888888888888,
             "#fdca26"
            ],
            [
             1,
             "#f0f921"
            ]
           ],
           "sequentialminus": [
            [
             0,
             "#0d0887"
            ],
            [
             0.1111111111111111,
             "#46039f"
            ],
            [
             0.2222222222222222,
             "#7201a8"
            ],
            [
             0.3333333333333333,
             "#9c179e"
            ],
            [
             0.4444444444444444,
             "#bd3786"
            ],
            [
             0.5555555555555556,
             "#d8576b"
            ],
            [
             0.6666666666666666,
             "#ed7953"
            ],
            [
             0.7777777777777778,
             "#fb9f3a"
            ],
            [
             0.8888888888888888,
             "#fdca26"
            ],
            [
             1,
             "#f0f921"
            ]
           ]
          },
          "colorway": [
           "#636efa",
           "#EF553B",
           "#00cc96",
           "#ab63fa",
           "#FFA15A",
           "#19d3f3",
           "#FF6692",
           "#B6E880",
           "#FF97FF",
           "#FECB52"
          ],
          "font": {
           "color": "#2a3f5f"
          },
          "geo": {
           "bgcolor": "white",
           "lakecolor": "white",
           "landcolor": "#E5ECF6",
           "showlakes": true,
           "showland": true,
           "subunitcolor": "white"
          },
          "hoverlabel": {
           "align": "left"
          },
          "hovermode": "closest",
          "mapbox": {
           "style": "light"
          },
          "paper_bgcolor": "white",
          "plot_bgcolor": "#E5ECF6",
          "polar": {
           "angularaxis": {
            "gridcolor": "white",
            "linecolor": "white",
            "ticks": ""
           },
           "bgcolor": "#E5ECF6",
           "radialaxis": {
            "gridcolor": "white",
            "linecolor": "white",
            "ticks": ""
           }
          },
          "scene": {
           "xaxis": {
            "backgroundcolor": "#E5ECF6",
            "gridcolor": "white",
            "gridwidth": 2,
            "linecolor": "white",
            "showbackground": true,
            "ticks": "",
            "zerolinecolor": "white"
           },
           "yaxis": {
            "backgroundcolor": "#E5ECF6",
            "gridcolor": "white",
            "gridwidth": 2,
            "linecolor": "white",
            "showbackground": true,
            "ticks": "",
            "zerolinecolor": "white"
           },
           "zaxis": {
            "backgroundcolor": "#E5ECF6",
            "gridcolor": "white",
            "gridwidth": 2,
            "linecolor": "white",
            "showbackground": true,
            "ticks": "",
            "zerolinecolor": "white"
           }
          },
          "shapedefaults": {
           "line": {
            "color": "#2a3f5f"
           }
          },
          "ternary": {
           "aaxis": {
            "gridcolor": "white",
            "linecolor": "white",
            "ticks": ""
           },
           "baxis": {
            "gridcolor": "white",
            "linecolor": "white",
            "ticks": ""
           },
           "bgcolor": "#E5ECF6",
           "caxis": {
            "gridcolor": "white",
            "linecolor": "white",
            "ticks": ""
           }
          },
          "title": {
           "x": 0.05
          },
          "xaxis": {
           "automargin": true,
           "gridcolor": "white",
           "linecolor": "white",
           "ticks": "",
           "title": {
            "standoff": 15
           },
           "zerolinecolor": "white",
           "zerolinewidth": 2
          },
          "yaxis": {
           "automargin": true,
           "gridcolor": "white",
           "linecolor": "white",
           "ticks": "",
           "title": {
            "standoff": 15
           },
           "zerolinecolor": "white",
           "zerolinewidth": 2
          }
         }
        },
        "title": {
         "text": "The Most Popular Brands"
        },
        "uniformtext": {
         "minsize": 8,
         "mode": "hide"
        },
        "xaxis": {
         "anchor": "y",
         "domain": [
          0,
          1
         ],
         "title": {
          "text": "brand"
         }
        },
        "yaxis": {
         "anchor": "x",
         "domain": [
          0,
          1
         ],
         "range": [
          0,
          1358.5
         ],
         "title": {
          "text": "count"
         }
        }
       }
      }
     },
     "metadata": {},
     "output_type": "display_data"
    }
   ],
   "source": [
    "brand_of_car = car_data.groupby('brand')['vin'].count().reset_index().sort_values('vin',ascending = False).head(10)\n",
    "brand_of_car = brand_of_car.rename(columns = {'vin':'count'})\n",
    "fig = px.bar(brand_of_car, x='brand', y='count',title='The Most Popular Brands')\n",
    "# Update the bar chart to move labels outside\n",
    "fig.update_traces(texttemplate='%{y}', textposition='outside')\n",
    "# Adjust the layout to make room for the labels\n",
    "fig.update_layout(\n",
    "    uniformtext_minsize=8,\n",
    "    uniformtext_mode='hide',\n",
    "    yaxis_range=[0, max(brand_of_car['count']) * 1.1]  # Extend y-axis range by 10%\n",
    ")\n",
    "fig.show()"
   ]
  },
  {
   "cell_type": "markdown",
   "metadata": {},
   "source": [
    "### Number of Cars by US States"
   ]
  },
  {
   "cell_type": "code",
   "execution_count": 9,
   "metadata": {},
   "outputs": [
    {
     "data": {
      "application/vnd.plotly.v1+json": {
       "config": {
        "plotlyServerURL": "https://plot.ly"
       },
       "data": [
        {
         "coloraxis": "coloraxis",
         "geo": "geo",
         "hovertemplate": "state=%{location}<br>Number of Cars=%{z}<extra></extra>",
         "locationmode": "USA-states",
         "locations": [
          "ID",
          "IN",
          "NC",
          "MT",
          "NM",
          "NY",
          "MI",
          "DE",
          "NE",
          "VA",
          "MS",
          "IA",
          "MO",
          "OK",
          "NJ",
          "WA",
          "AL",
          "CT",
          "MA",
          "MD",
          "RI",
          "SC",
          "NH",
          "OH",
          "WV",
          "KS",
          "TX",
          "GA",
          "KY",
          "SD",
          "ME",
          "WI",
          "ND",
          "VT",
          "CA",
          "WY",
          "HI",
          "FL",
          "OR",
          "MN",
          "AK",
          "UT",
          "AZ",
          "TN",
          "NV",
          "IL",
          "AR",
          "LA",
          "PA",
          "CO"
         ],
         "name": "",
         "type": "choropleth",
         "z": [
          2,
          14,
          146,
          1,
          4,
          58,
          169,
          0,
          4,
          90,
          24,
          0,
          46,
          71,
          87,
          14,
          17,
          25,
          27,
          4,
          2,
          64,
          4,
          31,
          21,
          4,
          214,
          51,
          9,
          0,
          0,
          94,
          0,
          2,
          190,
          1,
          0,
          246,
          27,
          119,
          0,
          10,
          33,
          26,
          85,
          113,
          12,
          11,
          299,
          21
         ]
        }
       ],
       "layout": {
        "coloraxis": {
         "colorbar": {
          "title": {
           "text": "Number of Cars"
          }
         },
         "colorscale": [
          [
           0,
           "rgb(247,252,245)"
          ],
          [
           0.125,
           "rgb(229,245,224)"
          ],
          [
           0.25,
           "rgb(199,233,192)"
          ],
          [
           0.375,
           "rgb(161,217,155)"
          ],
          [
           0.5,
           "rgb(116,196,118)"
          ],
          [
           0.625,
           "rgb(65,171,93)"
          ],
          [
           0.75,
           "rgb(35,139,69)"
          ],
          [
           0.875,
           "rgb(0,109,44)"
          ],
          [
           1,
           "rgb(0,68,27)"
          ]
         ]
        },
        "geo": {
         "center": {},
         "domain": {
          "x": [
           0,
           1
          ],
          "y": [
           0,
           1
          ]
         },
         "scope": "usa"
        },
        "legend": {
         "tracegroupgap": 0
        },
        "template": {
         "data": {
          "bar": [
           {
            "error_x": {
             "color": "#2a3f5f"
            },
            "error_y": {
             "color": "#2a3f5f"
            },
            "marker": {
             "line": {
              "color": "#E5ECF6",
              "width": 0.5
             },
             "pattern": {
              "fillmode": "overlay",
              "size": 10,
              "solidity": 0.2
             }
            },
            "type": "bar"
           }
          ],
          "barpolar": [
           {
            "marker": {
             "line": {
              "color": "#E5ECF6",
              "width": 0.5
             },
             "pattern": {
              "fillmode": "overlay",
              "size": 10,
              "solidity": 0.2
             }
            },
            "type": "barpolar"
           }
          ],
          "carpet": [
           {
            "aaxis": {
             "endlinecolor": "#2a3f5f",
             "gridcolor": "white",
             "linecolor": "white",
             "minorgridcolor": "white",
             "startlinecolor": "#2a3f5f"
            },
            "baxis": {
             "endlinecolor": "#2a3f5f",
             "gridcolor": "white",
             "linecolor": "white",
             "minorgridcolor": "white",
             "startlinecolor": "#2a3f5f"
            },
            "type": "carpet"
           }
          ],
          "choropleth": [
           {
            "colorbar": {
             "outlinewidth": 0,
             "ticks": ""
            },
            "type": "choropleth"
           }
          ],
          "contour": [
           {
            "colorbar": {
             "outlinewidth": 0,
             "ticks": ""
            },
            "colorscale": [
             [
              0,
              "#0d0887"
             ],
             [
              0.1111111111111111,
              "#46039f"
             ],
             [
              0.2222222222222222,
              "#7201a8"
             ],
             [
              0.3333333333333333,
              "#9c179e"
             ],
             [
              0.4444444444444444,
              "#bd3786"
             ],
             [
              0.5555555555555556,
              "#d8576b"
             ],
             [
              0.6666666666666666,
              "#ed7953"
             ],
             [
              0.7777777777777778,
              "#fb9f3a"
             ],
             [
              0.8888888888888888,
              "#fdca26"
             ],
             [
              1,
              "#f0f921"
             ]
            ],
            "type": "contour"
           }
          ],
          "contourcarpet": [
           {
            "colorbar": {
             "outlinewidth": 0,
             "ticks": ""
            },
            "type": "contourcarpet"
           }
          ],
          "heatmap": [
           {
            "colorbar": {
             "outlinewidth": 0,
             "ticks": ""
            },
            "colorscale": [
             [
              0,
              "#0d0887"
             ],
             [
              0.1111111111111111,
              "#46039f"
             ],
             [
              0.2222222222222222,
              "#7201a8"
             ],
             [
              0.3333333333333333,
              "#9c179e"
             ],
             [
              0.4444444444444444,
              "#bd3786"
             ],
             [
              0.5555555555555556,
              "#d8576b"
             ],
             [
              0.6666666666666666,
              "#ed7953"
             ],
             [
              0.7777777777777778,
              "#fb9f3a"
             ],
             [
              0.8888888888888888,
              "#fdca26"
             ],
             [
              1,
              "#f0f921"
             ]
            ],
            "type": "heatmap"
           }
          ],
          "heatmapgl": [
           {
            "colorbar": {
             "outlinewidth": 0,
             "ticks": ""
            },
            "colorscale": [
             [
              0,
              "#0d0887"
             ],
             [
              0.1111111111111111,
              "#46039f"
             ],
             [
              0.2222222222222222,
              "#7201a8"
             ],
             [
              0.3333333333333333,
              "#9c179e"
             ],
             [
              0.4444444444444444,
              "#bd3786"
             ],
             [
              0.5555555555555556,
              "#d8576b"
             ],
             [
              0.6666666666666666,
              "#ed7953"
             ],
             [
              0.7777777777777778,
              "#fb9f3a"
             ],
             [
              0.8888888888888888,
              "#fdca26"
             ],
             [
              1,
              "#f0f921"
             ]
            ],
            "type": "heatmapgl"
           }
          ],
          "histogram": [
           {
            "marker": {
             "pattern": {
              "fillmode": "overlay",
              "size": 10,
              "solidity": 0.2
             }
            },
            "type": "histogram"
           }
          ],
          "histogram2d": [
           {
            "colorbar": {
             "outlinewidth": 0,
             "ticks": ""
            },
            "colorscale": [
             [
              0,
              "#0d0887"
             ],
             [
              0.1111111111111111,
              "#46039f"
             ],
             [
              0.2222222222222222,
              "#7201a8"
             ],
             [
              0.3333333333333333,
              "#9c179e"
             ],
             [
              0.4444444444444444,
              "#bd3786"
             ],
             [
              0.5555555555555556,
              "#d8576b"
             ],
             [
              0.6666666666666666,
              "#ed7953"
             ],
             [
              0.7777777777777778,
              "#fb9f3a"
             ],
             [
              0.8888888888888888,
              "#fdca26"
             ],
             [
              1,
              "#f0f921"
             ]
            ],
            "type": "histogram2d"
           }
          ],
          "histogram2dcontour": [
           {
            "colorbar": {
             "outlinewidth": 0,
             "ticks": ""
            },
            "colorscale": [
             [
              0,
              "#0d0887"
             ],
             [
              0.1111111111111111,
              "#46039f"
             ],
             [
              0.2222222222222222,
              "#7201a8"
             ],
             [
              0.3333333333333333,
              "#9c179e"
             ],
             [
              0.4444444444444444,
              "#bd3786"
             ],
             [
              0.5555555555555556,
              "#d8576b"
             ],
             [
              0.6666666666666666,
              "#ed7953"
             ],
             [
              0.7777777777777778,
              "#fb9f3a"
             ],
             [
              0.8888888888888888,
              "#fdca26"
             ],
             [
              1,
              "#f0f921"
             ]
            ],
            "type": "histogram2dcontour"
           }
          ],
          "mesh3d": [
           {
            "colorbar": {
             "outlinewidth": 0,
             "ticks": ""
            },
            "type": "mesh3d"
           }
          ],
          "parcoords": [
           {
            "line": {
             "colorbar": {
              "outlinewidth": 0,
              "ticks": ""
             }
            },
            "type": "parcoords"
           }
          ],
          "pie": [
           {
            "automargin": true,
            "type": "pie"
           }
          ],
          "scatter": [
           {
            "fillpattern": {
             "fillmode": "overlay",
             "size": 10,
             "solidity": 0.2
            },
            "type": "scatter"
           }
          ],
          "scatter3d": [
           {
            "line": {
             "colorbar": {
              "outlinewidth": 0,
              "ticks": ""
             }
            },
            "marker": {
             "colorbar": {
              "outlinewidth": 0,
              "ticks": ""
             }
            },
            "type": "scatter3d"
           }
          ],
          "scattercarpet": [
           {
            "marker": {
             "colorbar": {
              "outlinewidth": 0,
              "ticks": ""
             }
            },
            "type": "scattercarpet"
           }
          ],
          "scattergeo": [
           {
            "marker": {
             "colorbar": {
              "outlinewidth": 0,
              "ticks": ""
             }
            },
            "type": "scattergeo"
           }
          ],
          "scattergl": [
           {
            "marker": {
             "colorbar": {
              "outlinewidth": 0,
              "ticks": ""
             }
            },
            "type": "scattergl"
           }
          ],
          "scattermapbox": [
           {
            "marker": {
             "colorbar": {
              "outlinewidth": 0,
              "ticks": ""
             }
            },
            "type": "scattermapbox"
           }
          ],
          "scatterpolar": [
           {
            "marker": {
             "colorbar": {
              "outlinewidth": 0,
              "ticks": ""
             }
            },
            "type": "scatterpolar"
           }
          ],
          "scatterpolargl": [
           {
            "marker": {
             "colorbar": {
              "outlinewidth": 0,
              "ticks": ""
             }
            },
            "type": "scatterpolargl"
           }
          ],
          "scatterternary": [
           {
            "marker": {
             "colorbar": {
              "outlinewidth": 0,
              "ticks": ""
             }
            },
            "type": "scatterternary"
           }
          ],
          "surface": [
           {
            "colorbar": {
             "outlinewidth": 0,
             "ticks": ""
            },
            "colorscale": [
             [
              0,
              "#0d0887"
             ],
             [
              0.1111111111111111,
              "#46039f"
             ],
             [
              0.2222222222222222,
              "#7201a8"
             ],
             [
              0.3333333333333333,
              "#9c179e"
             ],
             [
              0.4444444444444444,
              "#bd3786"
             ],
             [
              0.5555555555555556,
              "#d8576b"
             ],
             [
              0.6666666666666666,
              "#ed7953"
             ],
             [
              0.7777777777777778,
              "#fb9f3a"
             ],
             [
              0.8888888888888888,
              "#fdca26"
             ],
             [
              1,
              "#f0f921"
             ]
            ],
            "type": "surface"
           }
          ],
          "table": [
           {
            "cells": {
             "fill": {
              "color": "#EBF0F8"
             },
             "line": {
              "color": "white"
             }
            },
            "header": {
             "fill": {
              "color": "#C8D4E3"
             },
             "line": {
              "color": "white"
             }
            },
            "type": "table"
           }
          ]
         },
         "layout": {
          "annotationdefaults": {
           "arrowcolor": "#2a3f5f",
           "arrowhead": 0,
           "arrowwidth": 1
          },
          "autotypenumbers": "strict",
          "coloraxis": {
           "colorbar": {
            "outlinewidth": 0,
            "ticks": ""
           }
          },
          "colorscale": {
           "diverging": [
            [
             0,
             "#8e0152"
            ],
            [
             0.1,
             "#c51b7d"
            ],
            [
             0.2,
             "#de77ae"
            ],
            [
             0.3,
             "#f1b6da"
            ],
            [
             0.4,
             "#fde0ef"
            ],
            [
             0.5,
             "#f7f7f7"
            ],
            [
             0.6,
             "#e6f5d0"
            ],
            [
             0.7,
             "#b8e186"
            ],
            [
             0.8,
             "#7fbc41"
            ],
            [
             0.9,
             "#4d9221"
            ],
            [
             1,
             "#276419"
            ]
           ],
           "sequential": [
            [
             0,
             "#0d0887"
            ],
            [
             0.1111111111111111,
             "#46039f"
            ],
            [
             0.2222222222222222,
             "#7201a8"
            ],
            [
             0.3333333333333333,
             "#9c179e"
            ],
            [
             0.4444444444444444,
             "#bd3786"
            ],
            [
             0.5555555555555556,
             "#d8576b"
            ],
            [
             0.6666666666666666,
             "#ed7953"
            ],
            [
             0.7777777777777778,
             "#fb9f3a"
            ],
            [
             0.8888888888888888,
             "#fdca26"
            ],
            [
             1,
             "#f0f921"
            ]
           ],
           "sequentialminus": [
            [
             0,
             "#0d0887"
            ],
            [
             0.1111111111111111,
             "#46039f"
            ],
            [
             0.2222222222222222,
             "#7201a8"
            ],
            [
             0.3333333333333333,
             "#9c179e"
            ],
            [
             0.4444444444444444,
             "#bd3786"
            ],
            [
             0.5555555555555556,
             "#d8576b"
            ],
            [
             0.6666666666666666,
             "#ed7953"
            ],
            [
             0.7777777777777778,
             "#fb9f3a"
            ],
            [
             0.8888888888888888,
             "#fdca26"
            ],
            [
             1,
             "#f0f921"
            ]
           ]
          },
          "colorway": [
           "#636efa",
           "#EF553B",
           "#00cc96",
           "#ab63fa",
           "#FFA15A",
           "#19d3f3",
           "#FF6692",
           "#B6E880",
           "#FF97FF",
           "#FECB52"
          ],
          "font": {
           "color": "#2a3f5f"
          },
          "geo": {
           "bgcolor": "white",
           "lakecolor": "white",
           "landcolor": "#E5ECF6",
           "showlakes": true,
           "showland": true,
           "subunitcolor": "white"
          },
          "hoverlabel": {
           "align": "left"
          },
          "hovermode": "closest",
          "mapbox": {
           "style": "light"
          },
          "paper_bgcolor": "white",
          "plot_bgcolor": "#E5ECF6",
          "polar": {
           "angularaxis": {
            "gridcolor": "white",
            "linecolor": "white",
            "ticks": ""
           },
           "bgcolor": "#E5ECF6",
           "radialaxis": {
            "gridcolor": "white",
            "linecolor": "white",
            "ticks": ""
           }
          },
          "scene": {
           "xaxis": {
            "backgroundcolor": "#E5ECF6",
            "gridcolor": "white",
            "gridwidth": 2,
            "linecolor": "white",
            "showbackground": true,
            "ticks": "",
            "zerolinecolor": "white"
           },
           "yaxis": {
            "backgroundcolor": "#E5ECF6",
            "gridcolor": "white",
            "gridwidth": 2,
            "linecolor": "white",
            "showbackground": true,
            "ticks": "",
            "zerolinecolor": "white"
           },
           "zaxis": {
            "backgroundcolor": "#E5ECF6",
            "gridcolor": "white",
            "gridwidth": 2,
            "linecolor": "white",
            "showbackground": true,
            "ticks": "",
            "zerolinecolor": "white"
           }
          },
          "shapedefaults": {
           "line": {
            "color": "#2a3f5f"
           }
          },
          "ternary": {
           "aaxis": {
            "gridcolor": "white",
            "linecolor": "white",
            "ticks": ""
           },
           "baxis": {
            "gridcolor": "white",
            "linecolor": "white",
            "ticks": ""
           },
           "bgcolor": "#E5ECF6",
           "caxis": {
            "gridcolor": "white",
            "linecolor": "white",
            "ticks": ""
           }
          },
          "title": {
           "x": 0.05
          },
          "xaxis": {
           "automargin": true,
           "gridcolor": "white",
           "linecolor": "white",
           "ticks": "",
           "title": {
            "standoff": 15
           },
           "zerolinecolor": "white",
           "zerolinewidth": 2
          },
          "yaxis": {
           "automargin": true,
           "gridcolor": "white",
           "linecolor": "white",
           "ticks": "",
           "title": {
            "standoff": 15
           },
           "zerolinecolor": "white",
           "zerolinewidth": 2
          }
         }
        },
        "title": {
         "text": "Number of Cars by US State"
        }
       }
      }
     },
     "metadata": {},
     "output_type": "display_data"
    }
   ],
   "source": [
    "state_counts = car_data.groupby('state')['vin'].count().reset_index(name='car_count')\n",
    "\n",
    "\n",
    "\n",
    "# Dictionary to convert full state names to abbreviations\n",
    "state_abbr = {\n",
    "    'alabama': 'AL', 'alaska': 'AK', 'arizona': 'AZ', 'arkansas': 'AR', 'california': 'CA',\n",
    "    'colorado': 'CO', 'connecticut': 'CT', 'delaware': 'DE', 'florida': 'FL', 'georgia': 'GA',\n",
    "    'hawaii': 'HI', 'idaho': 'ID', 'illinois': 'IL', 'indiana': 'IN', 'iowa': 'IA',\n",
    "    'kansas': 'KS', 'kentucky': 'KY', 'louisiana': 'LA', 'maine': 'ME', 'maryland': 'MD',\n",
    "    'massachusetts': 'MA', 'michigan': 'MI', 'minnesota': 'MN', 'mississippi': 'MS',\n",
    "    'missouri': 'MO', 'montana': 'MT', 'nebraska': 'NE', 'nevada': 'NV', 'new hampshire': 'NH',\n",
    "    'new jersey': 'NJ', 'new mexico': 'NM', 'new york': 'NY', 'north carolina': 'NC',\n",
    "    'north dakota': 'ND', 'ohio': 'OH', 'oklahoma': 'OK', 'oregon': 'OR', 'pennsylvania': 'PA',\n",
    "    'rhode island': 'RI', 'south carolina': 'SC', 'south dakota': 'SD', 'tennessee': 'TN',\n",
    "    'texas': 'TX', 'utah': 'UT', 'vermont': 'VT', 'virginia': 'VA', 'washington': 'WA',\n",
    "    'west virginia': 'WV', 'wisconsin': 'WI', 'wyoming': 'WY'\n",
    "}\n",
    "\n",
    "# Convert state names to abbreviations\n",
    "state_counts['state'] = state_counts['state'].map(state_abbr)\n",
    "\n",
    "# Get all US state abbreviations\n",
    "all_states = set(state_abbr.values())\n",
    "\n",
    "# Create a DataFrame with all states\n",
    "all_states_df = pd.DataFrame({'state': list(all_states)})\n",
    "\n",
    "# Merge with the existing data, filling NaN with 0\n",
    "complete_df = all_states_df.merge(state_counts, on='state', how='left').fillna(0)\n",
    "\n",
    "# Create the choropleth map\n",
    "fig = px.choropleth(\n",
    "    complete_df,\n",
    "    locations='state',\n",
    "    locationmode='USA-states',\n",
    "    color='car_count',\n",
    "    scope='usa',\n",
    "    color_continuous_scale='Greens',\n",
    "    labels={'car_count': 'Number of Cars'},\n",
    "    title='Number of Cars by US State'\n",
    ")\n",
    "\n",
    "fig.update_layout(\n",
    "    geo_scope='usa',\n",
    ")\n",
    "\n",
    "fig.show()"
   ]
  },
  {
   "cell_type": "markdown",
   "metadata": {},
   "source": [
    "### Box Plot of Prices for Top 10 Brands"
   ]
  },
  {
   "cell_type": "code",
   "execution_count": 10,
   "metadata": {},
   "outputs": [
    {
     "data": {
      "application/vnd.plotly.v1+json": {
       "config": {
        "plotlyServerURL": "https://plot.ly"
       },
       "data": [
        {
         "alignmentgroup": "True",
         "hovertemplate": "brand=%{x}<br>price=%{y}<extra></extra>",
         "legendgroup": "",
         "marker": {
          "color": "#636efa"
         },
         "name": "",
         "notched": false,
         "offsetgroup": "",
         "orientation": "v",
         "showlegend": false,
         "type": "box",
         "x": [
          "ford",
          "dodge",
          "ford",
          "chevrolet",
          "dodge",
          "chevrolet",
          "gmc",
          "chevrolet",
          "ford",
          "dodge",
          "gmc",
          "chevrolet",
          "chrysler",
          "ford",
          "gmc",
          "kia",
          "ford",
          "ford",
          "gmc",
          "kia",
          "chevrolet",
          "ford",
          "ford",
          "gmc",
          "kia",
          "ford",
          "ford",
          "gmc",
          "chevrolet",
          "ford",
          "ford",
          "gmc",
          "chevrolet",
          "ford",
          "ford",
          "gmc",
          "chevrolet",
          "ford",
          "ford",
          "gmc",
          "jeep",
          "chevrolet",
          "dodge",
          "ford",
          "gmc",
          "jeep",
          "ford",
          "chrysler",
          "gmc",
          "jeep",
          "chrysler",
          "chrysler",
          "gmc",
          "jeep",
          "chevrolet",
          "ford",
          "chrysler",
          "gmc",
          "jeep",
          "chevrolet",
          "ford",
          "chrysler",
          "gmc",
          "jeep",
          "bmw",
          "ford",
          "chrysler",
          "gmc",
          "jeep",
          "ford",
          "chrysler",
          "gmc",
          "jeep",
          "chevrolet",
          "ford",
          "ford",
          "gmc",
          "jeep",
          "chevrolet",
          "ford",
          "ford",
          "ford",
          "chrysler",
          "bmw",
          "ford",
          "dodge",
          "bmw",
          "ford",
          "ford",
          "chevrolet",
          "ford",
          "ford",
          "ford",
          "ford",
          "ford",
          "ford",
          "chevrolet",
          "ford",
          "dodge",
          "ford",
          "ford",
          "chevrolet",
          "ford",
          "dodge",
          "chevrolet",
          "ford",
          "chrysler",
          "chevrolet",
          "ford",
          "ford",
          "ford",
          "chevrolet",
          "ford",
          "ford",
          "chevrolet",
          "ford",
          "dodge",
          "chevrolet",
          "dodge",
          "chevrolet",
          "dodge",
          "chrysler",
          "chevrolet",
          "dodge",
          "chrysler",
          "chevrolet",
          "dodge",
          "dodge",
          "dodge",
          "chevrolet",
          "dodge",
          "dodge",
          "chevrolet",
          "dodge",
          "dodge",
          "ford",
          "chevrolet",
          "chrysler",
          "ford",
          "chevrolet",
          "dodge",
          "ford",
          "chevrolet",
          "dodge",
          "ford",
          "dodge",
          "ford",
          "bmw",
          "dodge",
          "ford",
          "bmw",
          "dodge",
          "ford",
          "dodge",
          "ford",
          "bmw",
          "dodge",
          "ford",
          "chevrolet",
          "ford",
          "ford",
          "chevrolet",
          "ford",
          "ford",
          "chevrolet",
          "ford",
          "chevrolet",
          "chevrolet",
          "ford",
          "dodge",
          "ford",
          "chrysler",
          "chevrolet",
          "ford",
          "ford",
          "chevrolet",
          "ford",
          "ford",
          "chevrolet",
          "ford",
          "ford",
          "chevrolet",
          "ford",
          "dodge",
          "chevrolet",
          "ford",
          "dodge",
          "chevrolet",
          "ford",
          "chevrolet",
          "ford",
          "chrysler",
          "chevrolet",
          "ford",
          "ford",
          "chevrolet",
          "ford",
          "ford",
          "chevrolet",
          "ford",
          "ford",
          "chevrolet",
          "ford",
          "dodge",
          "chevrolet",
          "ford",
          "dodge",
          "chevrolet",
          "ford",
          "dodge",
          "chevrolet",
          "ford",
          "ford",
          "chevrolet",
          "ford",
          "ford",
          "bmw",
          "ford",
          "dodge",
          "chevrolet",
          "dodge",
          "ford",
          "chevrolet",
          "ford",
          "ford",
          "chevrolet",
          "ford",
          "ford",
          "chevrolet",
          "dodge",
          "ford",
          "chevrolet",
          "ford",
          "ford",
          "chevrolet",
          "ford",
          "ford",
          "chevrolet",
          "ford",
          "dodge",
          "chevrolet",
          "ford",
          "ford",
          "chevrolet",
          "ford",
          "ford",
          "ford",
          "ford",
          "chevrolet",
          "ford",
          "ford",
          "chevrolet",
          "ford",
          "ford",
          "chevrolet",
          "ford",
          "ford",
          "chevrolet",
          "ford",
          "dodge",
          "chevrolet",
          "ford",
          "dodge",
          "chevrolet",
          "ford",
          "dodge",
          "dodge",
          "ford",
          "ford",
          "hyundai",
          "kia",
          "jeep",
          "kia",
          "kia",
          "chevrolet",
          "ford",
          "ford",
          "hyundai",
          "jeep",
          "chevrolet",
          "chevrolet",
          "ford",
          "ford",
          "ford",
          "ford",
          "gmc",
          "jeep",
          "chevrolet",
          "chevrolet",
          "chevrolet",
          "ford",
          "ford",
          "ford",
          "gmc",
          "jeep",
          "jeep",
          "chevrolet",
          "chevrolet",
          "dodge",
          "ford",
          "ford",
          "ford",
          "gmc",
          "chevrolet",
          "chrysler",
          "ford",
          "ford",
          "ford",
          "gmc",
          "chevrolet",
          "chevrolet",
          "chrysler",
          "ford",
          "ford",
          "ford",
          "gmc",
          "chevrolet",
          "ford",
          "ford",
          "gmc",
          "gmc",
          "chevrolet",
          "ford",
          "ford",
          "ford",
          "ford",
          "gmc",
          "jeep",
          "chevrolet",
          "ford",
          "ford",
          "ford",
          "ford",
          "gmc",
          "jeep",
          "hyundai",
          "chevrolet",
          "ford",
          "ford",
          "ford",
          "ford",
          "gmc",
          "bmw",
          "ford",
          "ford",
          "gmc",
          "chevrolet",
          "ford",
          "ford",
          "gmc",
          "ford",
          "hyundai",
          "ford",
          "ford",
          "ford",
          "ford",
          "jeep",
          "jeep",
          "bmw",
          "bmw",
          "ford",
          "ford",
          "ford",
          "ford",
          "jeep",
          "jeep",
          "chevrolet",
          "bmw",
          "bmw",
          "ford",
          "ford",
          "ford",
          "hyundai",
          "kia",
          "bmw",
          "gmc",
          "hyundai",
          "nissan",
          "nissan",
          "chevrolet",
          "chevrolet",
          "ford",
          "ford",
          "ford",
          "gmc",
          "hyundai",
          "kia",
          "nissan",
          "nissan",
          "chevrolet",
          "ford",
          "ford",
          "ford",
          "gmc",
          "hyundai",
          "nissan",
          "chevrolet",
          "chrysler",
          "ford",
          "gmc",
          "gmc",
          "jeep",
          "hyundai",
          "nissan",
          "nissan",
          "chevrolet",
          "bmw",
          "chevrolet",
          "ford",
          "ford",
          "gmc",
          "gmc",
          "jeep",
          "jeep",
          "nissan",
          "nissan",
          "chevrolet",
          "chevrolet",
          "ford",
          "ford",
          "gmc",
          "gmc",
          "jeep",
          "hyundai",
          "nissan",
          "nissan",
          "chevrolet",
          "chevrolet",
          "chevrolet",
          "ford",
          "ford",
          "gmc",
          "jeep",
          "jeep",
          "chevrolet",
          "chevrolet",
          "dodge",
          "ford",
          "ford",
          "gmc",
          "jeep",
          "hyundai",
          "nissan",
          "nissan",
          "chevrolet",
          "chevrolet",
          "dodge",
          "ford",
          "ford",
          "jeep",
          "hyundai",
          "kia",
          "nissan",
          "chevrolet",
          "chevrolet",
          "ford",
          "ford",
          "ford",
          "jeep",
          "hyundai",
          "nissan",
          "nissan",
          "chevrolet",
          "chevrolet",
          "chevrolet",
          "ford",
          "gmc",
          "gmc",
          "jeep",
          "hyundai",
          "hyundai",
          "nissan",
          "chevrolet",
          "ford",
          "chevrolet",
          "ford",
          "chevrolet",
          "ford",
          "chevrolet",
          "ford",
          "chevrolet",
          "ford",
          "chevrolet",
          "ford",
          "chevrolet",
          "ford",
          "chevrolet",
          "ford",
          "chevrolet",
          "ford",
          "chevrolet",
          "ford",
          "chevrolet",
          "ford",
          "chevrolet",
          "ford",
          "chevrolet",
          "ford",
          "chevrolet",
          "ford",
          "chevrolet",
          "ford",
          "chevrolet",
          "ford",
          "chevrolet",
          "ford",
          "chevrolet",
          "ford",
          "chevrolet",
          "ford",
          "chevrolet",
          "ford",
          "chevrolet",
          "ford",
          "ford",
          "bmw",
          "ford",
          "ford",
          "ford",
          "ford",
          "ford",
          "ford",
          "ford",
          "ford",
          "ford",
          "ford",
          "ford",
          "ford",
          "ford",
          "ford",
          "bmw",
          "ford",
          "ford",
          "ford",
          "ford",
          "ford",
          "kia",
          "ford",
          "kia",
          "bmw",
          "ford",
          "kia",
          "ford",
          "kia",
          "ford",
          "chevrolet",
          "chevrolet",
          "chevrolet",
          "chevrolet",
          "chevrolet",
          "chevrolet",
          "chevrolet",
          "chevrolet",
          "chevrolet",
          "chevrolet",
          "chevrolet",
          "chevrolet",
          "chevrolet",
          "chevrolet",
          "chevrolet",
          "chevrolet",
          "chevrolet",
          "chevrolet",
          "chevrolet",
          "chevrolet",
          "chevrolet",
          "chevrolet",
          "chevrolet",
          "chevrolet",
          "chevrolet",
          "chevrolet",
          "chevrolet",
          "chevrolet",
          "chevrolet",
          "chevrolet",
          "chevrolet",
          "chevrolet",
          "chevrolet",
          "chevrolet",
          "chevrolet",
          "chevrolet",
          "chevrolet",
          "chevrolet",
          "chevrolet",
          "chevrolet",
          "chevrolet",
          "chevrolet",
          "chevrolet",
          "chevrolet",
          "chevrolet",
          "chevrolet",
          "chevrolet",
          "chevrolet",
          "chevrolet",
          "chevrolet",
          "chevrolet",
          "chevrolet",
          "chevrolet",
          "chevrolet",
          "chevrolet",
          "chevrolet",
          "chevrolet",
          "chevrolet",
          "chevrolet",
          "chevrolet",
          "chevrolet",
          "chevrolet",
          "chevrolet",
          "chevrolet",
          "chevrolet",
          "chevrolet",
          "chevrolet",
          "chevrolet",
          "chevrolet",
          "chevrolet",
          "chevrolet",
          "chevrolet",
          "chevrolet",
          "chevrolet",
          "chevrolet",
          "chevrolet",
          "chevrolet",
          "chevrolet",
          "chevrolet",
          "chevrolet",
          "chevrolet",
          "chevrolet",
          "chevrolet",
          "chevrolet",
          "chevrolet",
          "chevrolet",
          "chevrolet",
          "chevrolet",
          "chevrolet",
          "chevrolet",
          "chevrolet",
          "chevrolet",
          "chevrolet",
          "chevrolet",
          "chevrolet",
          "chevrolet",
          "chevrolet",
          "chevrolet",
          "chevrolet",
          "chevrolet",
          "chevrolet",
          "chevrolet",
          "chevrolet",
          "chevrolet",
          "chevrolet",
          "chevrolet",
          "chevrolet",
          "chevrolet",
          "chevrolet",
          "chevrolet",
          "chevrolet",
          "chevrolet",
          "chevrolet",
          "chevrolet",
          "chevrolet",
          "chevrolet",
          "chevrolet",
          "chevrolet",
          "chevrolet",
          "chevrolet",
          "chevrolet",
          "chevrolet",
          "chevrolet",
          "chevrolet",
          "chevrolet",
          "chevrolet",
          "chevrolet",
          "chevrolet",
          "chevrolet",
          "chevrolet",
          "chevrolet",
          "chevrolet",
          "chevrolet",
          "chevrolet",
          "chevrolet",
          "chevrolet",
          "chevrolet",
          "chevrolet",
          "chevrolet",
          "chevrolet",
          "chevrolet",
          "chevrolet",
          "chevrolet",
          "chevrolet",
          "chevrolet",
          "chevrolet",
          "chevrolet",
          "chevrolet",
          "chevrolet",
          "chevrolet",
          "chevrolet",
          "chevrolet",
          "chevrolet",
          "chevrolet",
          "chevrolet",
          "chevrolet",
          "chevrolet",
          "chevrolet",
          "chevrolet",
          "chevrolet",
          "chevrolet",
          "chevrolet",
          "chevrolet",
          "chevrolet",
          "chevrolet",
          "chevrolet",
          "chevrolet",
          "chevrolet",
          "chevrolet",
          "chevrolet",
          "chevrolet",
          "chevrolet",
          "chevrolet",
          "chevrolet",
          "chevrolet",
          "dodge",
          "dodge",
          "dodge",
          "dodge",
          "dodge",
          "dodge",
          "dodge",
          "dodge",
          "dodge",
          "dodge",
          "dodge",
          "dodge",
          "dodge",
          "dodge",
          "dodge",
          "dodge",
          "dodge",
          "dodge",
          "dodge",
          "dodge",
          "dodge",
          "dodge",
          "dodge",
          "dodge",
          "dodge",
          "dodge",
          "dodge",
          "dodge",
          "dodge",
          "dodge",
          "dodge",
          "dodge",
          "dodge",
          "dodge",
          "dodge",
          "dodge",
          "dodge",
          "dodge",
          "dodge",
          "dodge",
          "dodge",
          "dodge",
          "dodge",
          "dodge",
          "dodge",
          "dodge",
          "dodge",
          "dodge",
          "dodge",
          "dodge",
          "dodge",
          "dodge",
          "dodge",
          "dodge",
          "dodge",
          "dodge",
          "dodge",
          "dodge",
          "dodge",
          "dodge",
          "dodge",
          "dodge",
          "dodge",
          "dodge",
          "dodge",
          "dodge",
          "dodge",
          "dodge",
          "dodge",
          "dodge",
          "dodge",
          "dodge",
          "dodge",
          "dodge",
          "dodge",
          "dodge",
          "dodge",
          "dodge",
          "dodge",
          "dodge",
          "dodge",
          "dodge",
          "dodge",
          "dodge",
          "dodge",
          "dodge",
          "dodge",
          "dodge",
          "dodge",
          "dodge",
          "dodge",
          "dodge",
          "dodge",
          "dodge",
          "dodge",
          "dodge",
          "dodge",
          "dodge",
          "dodge",
          "dodge",
          "dodge",
          "dodge",
          "dodge",
          "dodge",
          "dodge",
          "dodge",
          "dodge",
          "dodge",
          "dodge",
          "dodge",
          "dodge",
          "dodge",
          "dodge",
          "dodge",
          "dodge",
          "dodge",
          "dodge",
          "dodge",
          "dodge",
          "dodge",
          "dodge",
          "dodge",
          "dodge",
          "dodge",
          "dodge",
          "dodge",
          "dodge",
          "dodge",
          "dodge",
          "dodge",
          "dodge",
          "dodge",
          "dodge",
          "dodge",
          "dodge",
          "dodge",
          "dodge",
          "dodge",
          "dodge",
          "dodge",
          "dodge",
          "dodge",
          "dodge",
          "dodge",
          "dodge",
          "dodge",
          "dodge",
          "dodge",
          "dodge",
          "dodge",
          "dodge",
          "dodge",
          "dodge",
          "dodge",
          "dodge",
          "dodge",
          "dodge",
          "dodge",
          "dodge",
          "dodge",
          "dodge",
          "dodge",
          "dodge",
          "dodge",
          "dodge",
          "dodge",
          "dodge",
          "dodge",
          "dodge",
          "dodge",
          "dodge",
          "dodge",
          "dodge",
          "dodge",
          "dodge",
          "dodge",
          "dodge",
          "dodge",
          "dodge",
          "dodge",
          "dodge",
          "dodge",
          "dodge",
          "dodge",
          "dodge",
          "dodge",
          "dodge",
          "dodge",
          "dodge",
          "dodge",
          "dodge",
          "dodge",
          "dodge",
          "dodge",
          "dodge",
          "dodge",
          "dodge",
          "dodge",
          "dodge",
          "dodge",
          "dodge",
          "dodge",
          "dodge",
          "dodge",
          "dodge",
          "dodge",
          "dodge",
          "dodge",
          "dodge",
          "dodge",
          "dodge",
          "dodge",
          "dodge",
          "dodge",
          "dodge",
          "dodge",
          "dodge",
          "dodge",
          "dodge",
          "dodge",
          "dodge",
          "dodge",
          "dodge",
          "dodge",
          "dodge",
          "dodge",
          "dodge",
          "dodge",
          "dodge",
          "dodge",
          "dodge",
          "dodge",
          "dodge",
          "dodge",
          "dodge",
          "dodge",
          "dodge",
          "dodge",
          "dodge",
          "dodge",
          "dodge",
          "dodge",
          "dodge",
          "dodge",
          "dodge",
          "dodge",
          "dodge",
          "dodge",
          "dodge",
          "dodge",
          "dodge",
          "dodge",
          "dodge",
          "dodge",
          "dodge",
          "dodge",
          "dodge",
          "dodge",
          "dodge",
          "dodge",
          "dodge",
          "dodge",
          "dodge",
          "dodge",
          "dodge",
          "dodge",
          "dodge",
          "dodge",
          "dodge",
          "dodge",
          "dodge",
          "dodge",
          "dodge",
          "dodge",
          "dodge",
          "dodge",
          "dodge",
          "dodge",
          "dodge",
          "dodge",
          "dodge",
          "dodge",
          "dodge",
          "dodge",
          "dodge",
          "dodge",
          "dodge",
          "dodge",
          "dodge",
          "dodge",
          "dodge",
          "dodge",
          "dodge",
          "dodge",
          "dodge",
          "dodge",
          "dodge",
          "dodge",
          "dodge",
          "dodge",
          "dodge",
          "dodge",
          "dodge",
          "dodge",
          "dodge",
          "dodge",
          "dodge",
          "dodge",
          "dodge",
          "dodge",
          "dodge",
          "dodge",
          "dodge",
          "dodge",
          "dodge",
          "dodge",
          "dodge",
          "dodge",
          "dodge",
          "dodge",
          "dodge",
          "dodge",
          "dodge",
          "dodge",
          "dodge",
          "dodge",
          "dodge",
          "dodge",
          "dodge",
          "dodge",
          "dodge",
          "dodge",
          "dodge",
          "dodge",
          "dodge",
          "dodge",
          "dodge",
          "dodge",
          "dodge",
          "dodge",
          "dodge",
          "dodge",
          "dodge",
          "dodge",
          "dodge",
          "dodge",
          "dodge",
          "dodge",
          "dodge",
          "dodge",
          "dodge",
          "dodge",
          "dodge",
          "dodge",
          "dodge",
          "dodge",
          "dodge",
          "dodge",
          "dodge",
          "dodge",
          "dodge",
          "dodge",
          "dodge",
          "dodge",
          "dodge",
          "dodge",
          "dodge",
          "dodge",
          "dodge",
          "dodge",
          "dodge",
          "dodge",
          "dodge",
          "dodge",
          "dodge",
          "dodge",
          "dodge",
          "dodge",
          "dodge",
          "dodge",
          "dodge",
          "dodge",
          "dodge",
          "dodge",
          "dodge",
          "dodge",
          "dodge",
          "dodge",
          "dodge",
          "dodge",
          "ford",
          "ford",
          "ford",
          "ford",
          "ford",
          "ford",
          "ford",
          "ford",
          "ford",
          "ford",
          "ford",
          "ford",
          "ford",
          "ford",
          "ford",
          "ford",
          "ford",
          "ford",
          "ford",
          "ford",
          "ford",
          "ford",
          "ford",
          "ford",
          "ford",
          "ford",
          "ford",
          "ford",
          "ford",
          "ford",
          "ford",
          "ford",
          "ford",
          "ford",
          "ford",
          "ford",
          "ford",
          "ford",
          "ford",
          "ford",
          "ford",
          "ford",
          "ford",
          "ford",
          "ford",
          "ford",
          "ford",
          "ford",
          "ford",
          "ford",
          "ford",
          "ford",
          "ford",
          "ford",
          "ford",
          "ford",
          "ford",
          "ford",
          "ford",
          "ford",
          "ford",
          "ford",
          "ford",
          "ford",
          "ford",
          "ford",
          "ford",
          "ford",
          "ford",
          "ford",
          "ford",
          "ford",
          "ford",
          "ford",
          "ford",
          "ford",
          "ford",
          "ford",
          "ford",
          "ford",
          "ford",
          "ford",
          "ford",
          "ford",
          "ford",
          "ford",
          "ford",
          "ford",
          "ford",
          "ford",
          "ford",
          "ford",
          "ford",
          "ford",
          "ford",
          "ford",
          "ford",
          "ford",
          "ford",
          "ford",
          "ford",
          "ford",
          "ford",
          "ford",
          "ford",
          "ford",
          "ford",
          "ford",
          "ford",
          "ford",
          "ford",
          "ford",
          "ford",
          "ford",
          "ford",
          "ford",
          "ford",
          "ford",
          "ford",
          "ford",
          "ford",
          "ford",
          "ford",
          "ford",
          "ford",
          "ford",
          "ford",
          "ford",
          "ford",
          "ford",
          "ford",
          "ford",
          "ford",
          "ford",
          "ford",
          "ford",
          "ford",
          "ford",
          "ford",
          "ford",
          "ford",
          "ford",
          "ford",
          "ford",
          "ford",
          "ford",
          "ford",
          "ford",
          "ford",
          "ford",
          "ford",
          "ford",
          "ford",
          "ford",
          "ford",
          "ford",
          "ford",
          "ford",
          "ford",
          "ford",
          "ford",
          "ford",
          "ford",
          "ford",
          "ford",
          "ford",
          "ford",
          "ford",
          "ford",
          "ford",
          "ford",
          "ford",
          "ford",
          "ford",
          "ford",
          "ford",
          "ford",
          "ford",
          "ford",
          "ford",
          "ford",
          "ford",
          "ford",
          "ford",
          "ford",
          "ford",
          "ford",
          "ford",
          "ford",
          "ford",
          "ford",
          "ford",
          "ford",
          "ford",
          "ford",
          "ford",
          "ford",
          "ford",
          "ford",
          "ford",
          "ford",
          "ford",
          "ford",
          "ford",
          "ford",
          "ford",
          "ford",
          "ford",
          "ford",
          "ford",
          "ford",
          "ford",
          "ford",
          "ford",
          "ford",
          "ford",
          "ford",
          "ford",
          "ford",
          "ford",
          "ford",
          "ford",
          "ford",
          "ford",
          "ford",
          "ford",
          "ford",
          "ford",
          "ford",
          "ford",
          "ford",
          "ford",
          "ford",
          "ford",
          "ford",
          "ford",
          "ford",
          "ford",
          "ford",
          "ford",
          "ford",
          "ford",
          "ford",
          "ford",
          "ford",
          "ford",
          "ford",
          "ford",
          "ford",
          "ford",
          "ford",
          "ford",
          "ford",
          "ford",
          "ford",
          "ford",
          "ford",
          "ford",
          "ford",
          "ford",
          "ford",
          "ford",
          "ford",
          "ford",
          "ford",
          "ford",
          "ford",
          "ford",
          "ford",
          "ford",
          "ford",
          "ford",
          "ford",
          "ford",
          "ford",
          "ford",
          "ford",
          "ford",
          "ford",
          "ford",
          "ford",
          "ford",
          "ford",
          "ford",
          "ford",
          "ford",
          "ford",
          "ford",
          "ford",
          "ford",
          "ford",
          "ford",
          "ford",
          "ford",
          "ford",
          "ford",
          "ford",
          "ford",
          "ford",
          "ford",
          "ford",
          "ford",
          "ford",
          "ford",
          "ford",
          "ford",
          "ford",
          "ford",
          "ford",
          "ford",
          "ford",
          "ford",
          "ford",
          "ford",
          "ford",
          "ford",
          "ford",
          "ford",
          "ford",
          "ford",
          "ford",
          "ford",
          "ford",
          "ford",
          "ford",
          "ford",
          "ford",
          "ford",
          "ford",
          "ford",
          "ford",
          "ford",
          "ford",
          "ford",
          "ford",
          "ford",
          "ford",
          "ford",
          "ford",
          "ford",
          "ford",
          "ford",
          "ford",
          "ford",
          "ford",
          "ford",
          "ford",
          "ford",
          "ford",
          "ford",
          "ford",
          "ford",
          "ford",
          "ford",
          "ford",
          "ford",
          "ford",
          "ford",
          "ford",
          "ford",
          "ford",
          "ford",
          "ford",
          "ford",
          "ford",
          "ford",
          "ford",
          "ford",
          "ford",
          "ford",
          "ford",
          "ford",
          "ford",
          "ford",
          "ford",
          "ford",
          "ford",
          "ford",
          "ford",
          "ford",
          "ford",
          "ford",
          "ford",
          "ford",
          "ford",
          "ford",
          "ford",
          "ford",
          "ford",
          "ford",
          "ford",
          "ford",
          "ford",
          "ford",
          "ford",
          "ford",
          "ford",
          "ford",
          "ford",
          "ford",
          "ford",
          "ford",
          "ford",
          "ford",
          "ford",
          "ford",
          "ford",
          "ford",
          "ford",
          "ford",
          "ford",
          "ford",
          "ford",
          "ford",
          "ford",
          "ford",
          "ford",
          "ford",
          "ford",
          "ford",
          "ford",
          "ford",
          "ford",
          "ford",
          "ford",
          "ford",
          "ford",
          "ford",
          "ford",
          "ford",
          "ford",
          "ford",
          "ford",
          "ford",
          "ford",
          "ford",
          "ford",
          "ford",
          "ford",
          "ford",
          "ford",
          "ford",
          "ford",
          "ford",
          "ford",
          "ford",
          "ford",
          "ford",
          "ford",
          "ford",
          "ford",
          "ford",
          "ford",
          "ford",
          "ford",
          "ford",
          "ford",
          "ford",
          "ford",
          "ford",
          "ford",
          "ford",
          "ford",
          "ford",
          "ford",
          "ford",
          "ford",
          "ford",
          "ford",
          "ford",
          "ford",
          "ford",
          "ford",
          "ford",
          "ford",
          "ford",
          "ford",
          "ford",
          "ford",
          "ford",
          "ford",
          "ford",
          "ford",
          "ford",
          "ford",
          "ford",
          "ford",
          "ford",
          "ford",
          "ford",
          "ford",
          "ford",
          "ford",
          "ford",
          "ford",
          "ford",
          "ford",
          "ford",
          "ford",
          "ford",
          "ford",
          "ford",
          "ford",
          "ford",
          "ford",
          "ford",
          "ford",
          "ford",
          "ford",
          "ford",
          "ford",
          "ford",
          "ford",
          "ford",
          "ford",
          "ford",
          "ford",
          "ford",
          "ford",
          "ford",
          "ford",
          "ford",
          "ford",
          "ford",
          "ford",
          "ford",
          "ford",
          "ford",
          "ford",
          "ford",
          "ford",
          "ford",
          "ford",
          "ford",
          "ford",
          "ford",
          "ford",
          "ford",
          "ford",
          "ford",
          "ford",
          "ford",
          "ford",
          "ford",
          "ford",
          "ford",
          "ford",
          "ford",
          "ford",
          "ford",
          "ford",
          "ford",
          "ford",
          "ford",
          "ford",
          "ford",
          "ford",
          "ford",
          "ford",
          "ford",
          "ford",
          "ford",
          "ford",
          "ford",
          "ford",
          "ford",
          "ford",
          "ford",
          "ford",
          "ford",
          "ford",
          "ford",
          "ford",
          "ford",
          "ford",
          "ford",
          "ford",
          "ford",
          "ford",
          "ford",
          "ford",
          "ford",
          "ford",
          "ford",
          "ford",
          "ford",
          "ford",
          "ford",
          "ford",
          "ford",
          "ford",
          "ford",
          "ford",
          "ford",
          "ford",
          "ford",
          "ford",
          "ford",
          "ford",
          "ford",
          "ford",
          "ford",
          "ford",
          "ford",
          "ford",
          "ford",
          "ford",
          "ford",
          "ford",
          "ford",
          "ford",
          "ford",
          "ford",
          "ford",
          "ford",
          "ford",
          "ford",
          "ford",
          "ford",
          "ford",
          "ford",
          "ford",
          "ford",
          "ford",
          "ford",
          "ford",
          "ford",
          "ford",
          "ford",
          "ford",
          "ford",
          "ford",
          "ford",
          "ford",
          "ford",
          "ford",
          "ford",
          "ford",
          "ford",
          "ford",
          "ford",
          "ford",
          "ford",
          "ford",
          "ford",
          "ford",
          "ford",
          "ford",
          "ford",
          "ford",
          "ford",
          "ford",
          "ford",
          "ford",
          "ford",
          "ford",
          "ford",
          "ford",
          "ford",
          "ford",
          "ford",
          "ford",
          "ford",
          "ford",
          "ford",
          "ford",
          "ford",
          "ford",
          "ford",
          "ford",
          "ford",
          "ford",
          "ford",
          "ford",
          "ford",
          "ford",
          "ford",
          "ford",
          "ford",
          "ford",
          "ford",
          "ford",
          "ford",
          "ford",
          "ford",
          "ford",
          "ford",
          "ford",
          "ford",
          "ford",
          "ford",
          "ford",
          "ford",
          "ford",
          "ford",
          "ford",
          "ford",
          "ford",
          "ford",
          "ford",
          "ford",
          "ford",
          "ford",
          "ford",
          "ford",
          "ford",
          "ford",
          "ford",
          "ford",
          "ford",
          "ford",
          "ford",
          "ford",
          "ford",
          "ford",
          "ford",
          "ford",
          "ford",
          "ford",
          "ford",
          "ford",
          "ford",
          "ford",
          "ford",
          "ford",
          "ford",
          "ford",
          "ford",
          "ford",
          "ford",
          "ford",
          "ford",
          "ford",
          "ford",
          "ford",
          "ford",
          "ford",
          "ford",
          "ford",
          "ford",
          "ford",
          "ford",
          "ford",
          "ford",
          "ford",
          "ford",
          "ford",
          "ford",
          "ford",
          "ford",
          "ford",
          "ford",
          "ford",
          "ford",
          "ford",
          "ford",
          "ford",
          "ford",
          "ford",
          "ford",
          "ford",
          "ford",
          "ford",
          "ford",
          "ford",
          "ford",
          "ford",
          "ford",
          "ford",
          "ford",
          "ford",
          "ford",
          "ford",
          "ford",
          "ford",
          "ford",
          "ford",
          "ford",
          "ford",
          "ford",
          "ford",
          "ford",
          "ford",
          "ford",
          "ford",
          "ford",
          "ford",
          "ford",
          "ford",
          "ford",
          "ford",
          "ford",
          "ford",
          "ford",
          "ford",
          "ford",
          "ford",
          "ford",
          "ford",
          "ford",
          "ford",
          "ford",
          "ford",
          "ford",
          "ford",
          "ford",
          "ford",
          "ford",
          "ford",
          "ford",
          "ford",
          "ford",
          "ford",
          "ford",
          "ford",
          "ford",
          "ford",
          "ford",
          "ford",
          "ford",
          "ford",
          "ford",
          "ford",
          "ford",
          "ford",
          "ford",
          "ford",
          "ford",
          "ford",
          "ford",
          "ford",
          "ford",
          "ford",
          "ford",
          "ford",
          "ford",
          "ford",
          "ford",
          "ford",
          "ford",
          "ford",
          "ford",
          "ford",
          "ford",
          "ford",
          "ford",
          "ford",
          "ford",
          "ford",
          "ford",
          "ford",
          "ford",
          "ford",
          "ford",
          "ford",
          "ford",
          "ford",
          "ford",
          "ford",
          "ford",
          "ford",
          "ford",
          "ford",
          "ford",
          "ford",
          "ford",
          "ford",
          "ford",
          "ford",
          "ford",
          "ford",
          "ford",
          "ford",
          "ford",
          "ford",
          "ford",
          "ford",
          "ford",
          "ford",
          "ford",
          "ford",
          "ford",
          "ford",
          "ford",
          "ford",
          "ford",
          "ford",
          "ford",
          "ford",
          "ford",
          "ford",
          "ford",
          "ford",
          "ford",
          "ford",
          "ford",
          "ford",
          "ford",
          "ford",
          "ford",
          "ford",
          "ford",
          "ford",
          "ford",
          "ford",
          "ford",
          "ford",
          "ford",
          "ford",
          "ford",
          "ford",
          "ford",
          "ford",
          "ford",
          "ford",
          "ford",
          "ford",
          "ford",
          "ford",
          "ford",
          "ford",
          "ford",
          "ford",
          "ford",
          "ford",
          "ford",
          "ford",
          "ford",
          "ford",
          "ford",
          "ford",
          "ford",
          "ford",
          "ford",
          "ford",
          "ford",
          "ford",
          "ford",
          "ford",
          "ford",
          "ford",
          "ford",
          "ford",
          "ford",
          "ford",
          "ford",
          "ford",
          "ford",
          "ford",
          "ford",
          "ford",
          "ford",
          "ford",
          "ford",
          "ford",
          "ford",
          "ford",
          "ford",
          "ford",
          "ford",
          "ford",
          "ford",
          "ford",
          "ford",
          "ford",
          "ford",
          "ford",
          "ford",
          "ford",
          "ford",
          "ford",
          "ford",
          "ford",
          "ford",
          "ford",
          "ford",
          "ford",
          "ford",
          "ford",
          "ford",
          "ford",
          "ford",
          "ford",
          "ford",
          "ford",
          "ford",
          "ford",
          "ford",
          "ford",
          "ford",
          "ford",
          "ford",
          "ford",
          "ford",
          "ford",
          "ford",
          "ford",
          "ford",
          "ford",
          "ford",
          "ford",
          "ford",
          "ford",
          "ford",
          "ford",
          "ford",
          "nissan",
          "nissan",
          "nissan",
          "nissan",
          "nissan",
          "nissan",
          "nissan",
          "nissan",
          "nissan",
          "nissan",
          "nissan",
          "nissan",
          "nissan",
          "nissan",
          "nissan",
          "nissan",
          "nissan",
          "nissan",
          "nissan",
          "nissan",
          "nissan",
          "nissan",
          "nissan",
          "nissan",
          "nissan",
          "nissan",
          "nissan",
          "nissan",
          "nissan",
          "nissan",
          "nissan",
          "nissan",
          "nissan",
          "nissan",
          "nissan",
          "nissan",
          "nissan",
          "nissan",
          "nissan",
          "nissan",
          "nissan",
          "nissan",
          "nissan",
          "nissan",
          "nissan",
          "nissan",
          "nissan",
          "nissan",
          "nissan",
          "nissan",
          "nissan",
          "nissan",
          "nissan",
          "nissan",
          "nissan",
          "nissan",
          "nissan",
          "nissan",
          "nissan",
          "nissan",
          "nissan",
          "nissan",
          "nissan",
          "nissan",
          "nissan",
          "nissan",
          "nissan",
          "nissan",
          "nissan",
          "nissan",
          "nissan",
          "nissan",
          "nissan",
          "nissan",
          "nissan",
          "nissan",
          "nissan",
          "nissan",
          "nissan",
          "nissan",
          "nissan",
          "nissan",
          "nissan",
          "nissan",
          "nissan",
          "nissan",
          "nissan",
          "nissan",
          "nissan",
          "nissan",
          "nissan",
          "nissan",
          "nissan",
          "nissan",
          "nissan",
          "nissan",
          "nissan",
          "nissan",
          "nissan",
          "nissan",
          "nissan",
          "nissan",
          "nissan",
          "nissan",
          "nissan",
          "nissan",
          "nissan",
          "nissan",
          "nissan",
          "nissan",
          "nissan",
          "nissan",
          "nissan",
          "nissan",
          "nissan",
          "nissan",
          "nissan",
          "nissan",
          "nissan",
          "nissan",
          "nissan",
          "nissan",
          "nissan",
          "nissan",
          "nissan",
          "nissan",
          "nissan",
          "nissan",
          "nissan",
          "nissan",
          "nissan",
          "nissan",
          "nissan",
          "nissan",
          "nissan",
          "nissan",
          "nissan",
          "nissan",
          "nissan",
          "nissan",
          "nissan",
          "nissan",
          "nissan",
          "nissan",
          "nissan",
          "nissan",
          "nissan",
          "nissan",
          "nissan",
          "nissan",
          "nissan",
          "nissan",
          "nissan",
          "nissan",
          "nissan",
          "nissan",
          "nissan",
          "nissan",
          "nissan",
          "nissan",
          "nissan",
          "nissan",
          "nissan",
          "nissan",
          "nissan",
          "nissan",
          "nissan",
          "nissan",
          "nissan",
          "nissan",
          "nissan",
          "nissan",
          "nissan",
          "nissan",
          "nissan",
          "nissan",
          "nissan",
          "nissan",
          "nissan",
          "nissan",
          "nissan",
          "nissan",
          "nissan",
          "nissan",
          "nissan",
          "nissan",
          "nissan",
          "nissan",
          "nissan",
          "nissan",
          "nissan",
          "nissan",
          "nissan",
          "nissan",
          "nissan",
          "nissan",
          "nissan",
          "nissan",
          "nissan",
          "nissan",
          "nissan",
          "nissan",
          "nissan",
          "nissan",
          "nissan",
          "nissan",
          "nissan",
          "nissan",
          "nissan",
          "nissan",
          "nissan",
          "nissan",
          "nissan",
          "nissan",
          "nissan",
          "nissan",
          "nissan",
          "nissan",
          "nissan",
          "nissan",
          "nissan",
          "nissan",
          "nissan",
          "nissan",
          "nissan",
          "nissan",
          "nissan",
          "nissan",
          "nissan",
          "nissan",
          "nissan",
          "nissan",
          "nissan",
          "nissan",
          "nissan",
          "nissan",
          "nissan",
          "nissan",
          "nissan",
          "nissan",
          "nissan",
          "nissan",
          "nissan",
          "nissan",
          "nissan",
          "nissan",
          "nissan",
          "nissan",
          "nissan",
          "nissan",
          "nissan",
          "nissan",
          "nissan",
          "nissan",
          "nissan",
          "nissan",
          "nissan",
          "nissan",
          "nissan",
          "nissan",
          "nissan",
          "nissan",
          "nissan",
          "nissan",
          "nissan",
          "nissan",
          "nissan",
          "nissan",
          "nissan",
          "nissan",
          "nissan",
          "nissan",
          "nissan",
          "nissan",
          "nissan",
          "nissan",
          "nissan",
          "nissan",
          "nissan",
          "nissan",
          "nissan",
          "nissan",
          "nissan",
          "nissan",
          "nissan",
          "nissan",
          "nissan",
          "nissan",
          "nissan",
          "nissan",
          "nissan",
          "nissan",
          "nissan",
          "nissan",
          "nissan"
         ],
         "x0": " ",
         "xaxis": "x",
         "y": [
          2899,
          5350,
          25000,
          27700,
          5700,
          7300,
          13350,
          14600,
          5250,
          10400,
          12920,
          31900,
          5430,
          20700,
          12710,
          5200,
          5210,
          38100,
          12520,
          7300,
          15000,
          6180,
          20800,
          11900,
          21500,
          4190,
          13000,
          12710,
          29800,
          5330,
          13000,
          11900,
          19200,
          7320,
          7000,
          12710,
          30500,
          6330,
          55000,
          12520,
          16200,
          19000,
          5580,
          54000,
          12710,
          16000,
          7760,
          19600,
          12920,
          20000,
          23000,
          18500,
          13490,
          20700,
          17800,
          6650,
          29100,
          12710,
          21100,
          18600,
          4340,
          19300,
          12780,
          15800,
          29400,
          4430,
          19400,
          12520,
          15900,
          4140,
          18300,
          12520,
          17900,
          18300,
          4640,
          24000,
          13200,
          18000,
          14900,
          4140,
          11500,
          9110,
          7350,
          24500,
          9300,
          39800,
          53500,
          15110,
          34000,
          26502,
          5990,
          13600,
          10780,
          13800,
          7070,
          8700,
          18003,
          8530,
          23100,
          7000,
          17000,
          34002,
          6980,
          25000,
          20802,
          9200,
          26500,
          24802,
          7070,
          28500,
          23500,
          23505,
          10940,
          32100,
          53000,
          6830,
          11900,
          26414,
          4160,
          19405,
          5690,
          25900,
          24005,
          5090,
          19500,
          32012,
          6800,
          4260,
          16900,
          31802,
          7210,
          16900,
          28402,
          6800,
          10780,
          6700,
          20000,
          6440,
          19900,
          37000,
          4040,
          22300,
          31200,
          4290,
          22800,
          4160,
          18500,
          39000,
          6060,
          28800,
          40000,
          6140,
          21000,
          6760,
          25800,
          39000,
          5470,
          14600,
          24502,
          15110,
          7900,
          27305,
          15290,
          26500,
          25502,
          7320,
          3800,
          24502,
          4140,
          1400,
          4160,
          175,
          24503,
          15840,
          20500,
          21003,
          4200,
          17400,
          32001,
          16900,
          15700,
          31009,
          3740,
          5000,
          31002,
          3160,
          8600,
          6000,
          12990,
          25,
          4410,
          25,
          22500,
          7420,
          13500,
          15500,
          3540,
          17000,
          45500,
          4130,
          15700,
          45500,
          4130,
          15500,
          16300,
          4530,
          15600,
          45500,
          4100,
          18200,
          10200,
          4080,
          5700,
          10200,
          5000,
          1700,
          6200,
          3650,
          10500,
          43500,
          4610,
          3450,
          38500,
          6810,
          2900,
          43500,
          4450,
          5800,
          16500,
          4240,
          26500,
          13700,
          8600,
          8000,
          14200,
          7040,
          4700,
          30851,
          4880,
          14500,
          7600,
          13270,
          12800,
          33000,
          9280,
          900,
          7560,
          19500,
          17100,
          8020,
          10300,
          22600,
          10480,
          10300,
          22700,
          7410,
          10300,
          10300,
          7570,
          67000,
          18900,
          12560,
          33000,
          18300,
          11760,
          31700,
          25,
          16900,
          7340,
          8200,
          3000,
          6530,
          12700,
          13800,
          16900,
          725,
          7400,
          9800,
          4400,
          1800,
          50,
          720,
          22800,
          2500,
          16900,
          9190,
          10900,
          16900,
          16900,
          7320,
          22809,
          16900,
          16900,
          5520,
          10900,
          6330,
          16900,
          25,
          2320,
          23702,
          16900,
          16900,
          5520,
          25,
          2960,
          24800,
          16900,
          16900,
          6270,
          225,
          26900,
          1420,
          27003,
          16900,
          350,
          5600,
          16900,
          3920,
          23100,
          16900,
          5630,
          16900,
          8850,
          18712,
          16900,
          16900,
          6300,
          6930,
          25,
          3440,
          50412,
          25,
          950,
          9270,
          11380,
          5350,
          2725,
          3790,
          40514,
          16900,
          16900,
          9190,
          2925,
          3830,
          43402,
          1025,
          25,
          10630,
          43009,
          25,
          4600,
          3760,
          3830,
          53500,
          25,
          25,
          4150,
          25,
          61200,
          13500,
          6490,
          51502,
          250,
          25,
          7770,
          200,
          16900,
          1825,
          39800,
          9210,
          58500,
          125,
          5998,
          16900,
          16900,
          5000,
          3960,
          2630,
          5690,
          450,
          4320,
          33001,
          10000,
          16900,
          5790,
          4010,
          13000,
          3550,
          3040,
          16900,
          4480,
          31003,
          75,
          8850,
          4690,
          3160,
          16900,
          3450,
          27102,
          500,
          5100,
          5800,
          8000,
          3390,
          3140,
          25,
          15000,
          10440,
          23911,
          25,
          21400,
          5380,
          11000,
          4950,
          2630,
          3140,
          2300,
          4310,
          26012,
          75,
          48500,
          3330,
          11200,
          4730,
          8350,
          3210,
          25,
          4200,
          8430,
          25503,
          16900,
          26000,
          11200,
          8610,
          16900,
          1000,
          3570,
          25001,
          16900,
          5630,
          11100,
          4650,
          3820,
          2900,
          50,
          5100,
          4700,
          29502,
          16900,
          10910,
          3440,
          3810,
          3020,
          16900,
          2000,
          3870,
          24811,
          75,
          11100,
          4750,
          3800,
          3160,
          25,
          1200,
          6470,
          26400,
          16900,
          32500,
          11030,
          3460,
          3250,
          3210,
          13200,
          27705,
          7200,
          28714,
          11200,
          27502,
          11900,
          29314,
          11200,
          27002,
          13200,
          28214,
          12700,
          29900,
          12700,
          27202,
          13500,
          27705,
          14700,
          29900,
          4500,
          27705,
          8000,
          25511,
          7700,
          29900,
          7200,
          27502,
          4500,
          27402,
          1500,
          26602,
          10200,
          29900,
          14000,
          28500,
          8000,
          29809,
          36900,
          26902,
          10950,
          27402,
          25600,
          29700,
          27702,
          27102,
          27102,
          25811,
          26602,
          27102,
          26211,
          24205,
          27111,
          27411,
          27302,
          27202,
          26311,
          26602,
          33500,
          27511,
          27200,
          26511,
          24002,
          18511,
          14000,
          23402,
          13300,
          19700,
          23211,
          15500,
          18111,
          21500,
          25511,
          17700,
          28000,
          14000,
          21700,
          13500,
          35500,
          29500,
          25300,
          21500,
          25900,
          35300,
          13500,
          62000,
          46000,
          9000,
          25900,
          25800,
          17000,
          12800,
          47400,
          24400,
          17100,
          7400,
          33100,
          22000,
          35000,
          16500,
          35300,
          26900,
          11600,
          28100,
          27700,
          17700,
          16600,
          63200,
          36800,
          19500,
          38800,
          37500,
          35000,
          31100,
          22600,
          22400,
          22700,
          13700,
          37100,
          18500,
          18300,
          19000,
          18500,
          22500,
          14500,
          32800,
          12300,
          19600,
          13600,
          7200,
          19900,
          13000,
          19700,
          9400,
          23800,
          17700,
          17000,
          14000,
          32100,
          33100,
          31600,
          5100,
          4100,
          7200,
          12800,
          46800,
          21800,
          3000,
          22500,
          35300,
          16500,
          33000,
          31500,
          34500,
          8000,
          25000,
          10700,
          13400,
          16500,
          34000,
          14100,
          38600,
          9100,
          8600,
          22000,
          8900,
          15500,
          3300,
          29000,
          17300,
          30500,
          25000,
          2800,
          3300,
          36400,
          34800,
          20700,
          32200,
          35300,
          33500,
          13700,
          15900,
          33200,
          35500,
          29800,
          29800,
          29500,
          30300,
          24300,
          29800,
          29800,
          27500,
          10800,
          11500,
          10400,
          11400,
          11400,
          8000,
          3000,
          25000,
          12300,
          14100,
          9000,
          4200,
          22500,
          22600,
          22600,
          22500,
          10200,
          42700,
          21200,
          22700,
          22000,
          9600,
          10500,
          6700,
          14200,
          15500,
          35100,
          26300,
          15700,
          17600,
          18600,
          19100,
          15200,
          16100,
          14800,
          16700,
          15300,
          16500,
          19600,
          15200,
          15000,
          15500,
          15700,
          14800,
          9200,
          8200,
          11400,
          6500,
          11500,
          23800,
          8900,
          28300,
          27300,
          3500,
          28300,
          18300,
          22500,
          22500,
          8300,
          16500,
          14500,
          30000,
          30000,
          30000,
          30000,
          30000,
          29500,
          21600,
          22600,
          16300,
          8600,
          28800,
          22100,
          14300,
          13700,
          29500,
          18500,
          19000,
          43400,
          46000,
          12500,
          13900,
          13000,
          13000,
          3000,
          17500,
          7900,
          8900,
          11500,
          6500,
          8000,
          18700,
          8350,
          27900,
          14500,
          6200,
          7500,
          20200,
          29300,
          31000,
          32400,
          5800,
          21500,
          23100,
          4500,
          24800,
          23000,
          26900,
          21500,
          15700,
          15200,
          23300,
          6100,
          20000,
          53000,
          3000,
          18200,
          21800,
          52000,
          19000,
          25000,
          36000,
          17000,
          25300,
          14900,
          15000,
          12995,
          17750,
          10295,
          16995,
          25000,
          23995,
          14900,
          15810,
          20227,
          20999,
          22499,
          23495,
          25250,
          15322,
          21232,
          5800,
          29000,
          17000,
          13800,
          30000,
          14800,
          8500,
          9800,
          4200,
          2500,
          28700,
          18500,
          17300,
          7100,
          3250,
          30700,
          3000,
          26500,
          20800,
          20800,
          5100,
          18900,
          24000,
          38800,
          24500,
          24500,
          6500,
          24000,
          18000,
          24000,
          23500,
          4500,
          25900,
          13900,
          14200,
          15400,
          17500,
          17500,
          18000,
          25200,
          14100,
          13300,
          16200,
          13300,
          13100,
          15500,
          4500,
          28400,
          17400,
          6000,
          20700,
          20300,
          14000,
          22000,
          17200,
          15000,
          17500,
          1300,
          1750,
          16300,
          15700,
          10000,
          23100,
          14900,
          16700,
          16300,
          25800,
          23800,
          16800,
          15500,
          6000,
          26900,
          16900,
          19500,
          15400,
          2300,
          17000,
          34000,
          13700,
          19100,
          11800,
          27500,
          26900,
          27100,
          27200,
          9000,
          22500,
          7700,
          4500,
          2200,
          21500,
          18800,
          21800,
          20300,
          8200,
          19000,
          8400,
          19500,
          7000,
          19500,
          8500,
          20500,
          4900,
          20800,
          28500,
          21900,
          15800,
          33000,
          22700,
          21900,
          19300,
          30700,
          19300,
          13750,
          16400,
          19500,
          15100,
          28500,
          15300,
          20300,
          22000,
          16700,
          19300,
          34100,
          14600,
          18200,
          33800,
          15900,
          16500,
          29600,
          14100,
          18200,
          18200,
          24300,
          15400,
          19000,
          19000,
          27800,
          18200,
          15000,
          19200,
          15500,
          24900,
          15500,
          7600,
          18400,
          14700,
          3900,
          5200,
          17200,
          18700,
          32000,
          14500,
          19400,
          17300,
          16700,
          19100,
          11100,
          32000,
          16900,
          18000,
          17800,
          18000,
          17500,
          14500,
          18500,
          18600,
          32000,
          17000,
          16000,
          18000,
          15900,
          6200,
          3700,
          24000,
          20800,
          18500,
          18300,
          21000,
          1300,
          11900,
          950,
          26800,
          800,
          21000,
          1900,
          33500,
          900,
          21000,
          26800,
          5700,
          18500,
          33000,
          11000,
          15800,
          3600,
          16300,
          2700,
          12800,
          9700,
          18300,
          16000,
          21000,
          3700,
          33000,
          14700,
          33000,
          15900,
          33000,
          33000,
          32500,
          33000,
          13000,
          33000,
          16500,
          33000,
          34500,
          33500,
          48000,
          54500,
          13200,
          31500,
          17400,
          26000,
          1700,
          11000,
          21000,
          5500,
          7500,
          15800,
          16900,
          25000,
          18000,
          15600,
          23800,
          16800,
          22700,
          23300,
          23500,
          25500,
          21800,
          22800,
          18200,
          23500,
          25700,
          15700,
          17500,
          15700,
          16500,
          16100,
          15600,
          15400,
          28200,
          15300,
          15900,
          17700,
          15800,
          15900,
          25300,
          16300,
          29500,
          14500,
          15400,
          15400,
          15100,
          15000,
          15500,
          15000,
          15200,
          15700,
          16100,
          16300,
          16000,
          16900,
          17000,
          17300,
          15900,
          15700,
          16900,
          15500,
          15100,
          15500,
          15400,
          16500,
          42500,
          16600,
          15200,
          15800,
          16900,
          11100,
          15600,
          16900,
          15300,
          16600,
          21800,
          36500,
          26300,
          20900,
          20100,
          26700,
          23900,
          14500,
          23000,
          15000,
          15000,
          28500,
          28000,
          9000,
          28700,
          25000,
          17347,
          13800,
          25888,
          8500,
          21289,
          17999,
          2700,
          30977,
          13799,
          20500,
          8500,
          9900,
          65500,
          24500,
          32500,
          9200,
          17700,
          18300,
          43500,
          15200,
          36200,
          21900,
          20700,
          12300,
          4200,
          19500,
          14300,
          13700,
          13200,
          6200,
          6500,
          1500,
          2200,
          4200,
          8700,
          3200,
          9000,
          20000,
          33000,
          23300,
          8750,
          11975,
          23600,
          12000,
          30900,
          23900,
          40400,
          38000,
          27000,
          24000,
          30000,
          16200,
          30000,
          23900,
          13800,
          23700,
          24300,
          54900,
          22500,
          39000,
          13900,
          24700,
          20100,
          22000,
          38200,
          24400,
          35000,
          18600,
          22700,
          38000,
          17000,
          17500,
          23200,
          30700,
          23500,
          26400,
          23500,
          38000,
          23600,
          19300,
          23200,
          13800,
          23600,
          23200,
          40000,
          23400,
          23600,
          23000,
          25500,
          23500,
          29900,
          23200,
          50500,
          23400,
          24500,
          49000,
          25400,
          23000,
          6000,
          22400,
          22500,
          25200,
          36000,
          26700,
          30500,
          26700,
          25000,
          35200,
          30300,
          25000,
          26500,
          21600,
          18800,
          21500,
          9000,
          16700,
          16800,
          15700,
          16800,
          19500,
          20500,
          17400,
          17500,
          26000,
          56700,
          5000,
          40200,
          54000,
          65200,
          32500,
          25500,
          63000,
          44000,
          70000,
          56200,
          35000,
          57700,
          74000,
          60200,
          60000,
          63000,
          22500,
          8300,
          8300,
          21000,
          19300,
          16400,
          27300,
          26400,
          35100,
          41500,
          34100,
          28600,
          34100,
          28700,
          24700,
          46500,
          29000,
          25500,
          39500,
          33100,
          30500,
          3600,
          16800,
          24000,
          58500,
          55000,
          28800,
          26800,
          36000,
          20000,
          46700,
          42800,
          21800,
          18800,
          18800,
          30200,
          27500,
          37500,
          19100,
          17100,
          13500,
          54500,
          9000,
          16400,
          17000,
          24800,
          26800,
          19400,
          20000,
          7000,
          25100,
          2000,
          18200,
          14200,
          56500,
          2000,
          26500,
          34300,
          43500,
          3500,
          37200,
          12800,
          15000,
          12500,
          21500,
          17300,
          27000,
          31800,
          13000,
          31800,
          46300,
          6000,
          22800,
          45000,
          49500,
          3000,
          20000,
          25300,
          4000,
          45500,
          9100,
          48000,
          47000,
          49500,
          31200,
          18500,
          15500,
          30500,
          45500,
          31500,
          11000,
          46500,
          31500,
          32000,
          23900,
          31500,
          18500,
          1500,
          46000,
          31500,
          14700,
          2700,
          47500,
          31500,
          8900,
          7000,
          49000,
          31500,
          8900,
          48000,
          50000,
          47300,
          45000,
          49000,
          40200,
          48000,
          5000,
          8200,
          49000,
          4000,
          39000,
          29000,
          46500,
          7805,
          22000,
          18800,
          33000,
          39500,
          16900,
          42500,
          39500,
          25500,
          49500,
          25000,
          40000,
          26000,
          29500,
          23000,
          25500,
          44500,
          15600,
          23100,
          37000,
          14500,
          23000,
          26500,
          18000,
          35700,
          31000,
          2000,
          40400,
          43600,
          22600,
          26000,
          23200,
          29000,
          22800,
          3450,
          31000,
          22900,
          3000,
          28000,
          23200,
          27000,
          22800,
          31500,
          23400,
          28000,
          23400,
          28000,
          24900,
          23500,
          36000,
          28700,
          16000,
          31000,
          16500,
          28500,
          10800,
          28500,
          25000,
          31000,
          7800,
          28500,
          9500,
          28500,
          14500,
          25000,
          14500,
          28500,
          12100,
          29400,
          24700,
          8700,
          29500,
          25800,
          17500,
          23900,
          22900,
          19500,
          29500,
          24500,
          11000,
          22400,
          15700,
          11000,
          28000,
          13500,
          7300,
          25100,
          24100,
          6500,
          10500,
          16900,
          6000,
          28500,
          16200,
          6500,
          24500,
          16500,
          56500,
          10400,
          22800,
          26500,
          23800,
          24700,
          12400,
          16600,
          11200,
          15900,
          7700,
          15100,
          7200,
          15600,
          39700,
          16000,
          7500,
          15500,
          19000,
          5500,
          38700,
          21000,
          28500,
          37200,
          18500,
          15000,
          37700,
          22200,
          39950,
          37600,
          18500,
          10000,
          20500,
          5700,
          21000,
          22500,
          29000,
          13200,
          25500,
          25700,
          18900,
          31500,
          45500,
          11000,
          18288,
          20000,
          36600,
          18299,
          10000,
          4100,
          30995,
          1750,
          31500,
          13500,
          7500,
          650,
          22800,
          11300,
          32700,
          1350,
          21900,
          11700,
          6500,
          9800,
          11000,
          1150,
          13000,
          5500,
          6000,
          11200,
          5000,
          23400,
          13500,
          22900,
          20000,
          22900,
          27000,
          54500,
          20600,
          23500,
          53000,
          23600,
          33500,
          24400,
          13000,
          48400,
          26500,
          46200,
          9300,
          13500,
          27600,
          7400,
          26500,
          26000,
          24500,
          2100,
          16700,
          17500,
          17000,
          22500,
          34500,
          16600,
          7500,
          34500,
          25000,
          36000,
          23700,
          28600,
          23500,
          25300,
          24900,
          20300,
          23400,
          14600,
          25500,
          14700,
          33700,
          33400,
          34000,
          17500,
          14100,
          30000,
          16500,
          30600,
          12800,
          26000,
          46000,
          28500,
          24300,
          29000,
          15300,
          27900,
          24700,
          14400,
          15000,
          17200,
          12800,
          46900,
          2800,
          16200,
          25200,
          34800,
          52000,
          26000,
          40600,
          55000,
          5000,
          36400,
          7500,
          14700,
          43900,
          6400,
          41100,
          23000,
          13900,
          19000,
          34800,
          22000,
          16300,
          18800,
          13000,
          40900,
          47000,
          12800,
          25500,
          17800,
          25700,
          17200,
          35000,
          28800,
          39200,
          13600,
          24200,
          46900,
          26500,
          24700,
          12600,
          31800,
          24500,
          26000,
          21000,
          22500,
          7700,
          23100,
          9200,
          19600,
          11700,
          27300,
          14300,
          23600,
          6200,
          22400,
          5700,
          23600,
          4600,
          37500,
          10700,
          31900,
          31600,
          12600,
          5300,
          3900,
          13000,
          11800,
          24600,
          14500,
          24300,
          12300,
          14800,
          17100,
          6800,
          20300,
          26300,
          22500,
          41200,
          20400,
          49900,
          12100,
          24000,
          9500,
          9000,
          9800,
          7800,
          17200,
          18800,
          9800,
          7000,
          44000,
          23400,
          30700,
          15600,
          22600,
          22900,
          22800,
          22700,
          23000,
          22700,
          23000,
          34400,
          36500,
          23100,
          23300,
          22600,
          4500,
          23000,
          8000,
          11500,
          9400,
          23000,
          2800,
          22600,
          23000,
          5200,
          19200,
          10100,
          6200,
          14000,
          5000,
          9200,
          14700,
          3000,
          30200,
          3800,
          3200,
          21500,
          4900,
          23000,
          11200,
          10400,
          13200,
          5200,
          10500,
          11900,
          21200,
          23500,
          4700,
          11100,
          22000,
          14000,
          9200,
          23300,
          21700,
          11200,
          11300,
          4200,
          10900,
          42300,
          10500,
          43400,
          12500,
          15900,
          42500,
          15000,
          24700,
          15500,
          49000,
          29000,
          16800,
          51000,
          16500,
          10000,
          27900,
          23700,
          20000,
          45600,
          6000,
          15600,
          25000,
          28500,
          8000,
          19990,
          34400,
          30999,
          41000,
          27999,
          42000,
          8000,
          29795,
          24700,
          13995,
          2900,
          35400,
          24549,
          8900,
          15800,
          18500,
          32000,
          28300,
          10500,
          24970,
          13800,
          2580,
          59975,
          2500,
          28990,
          50000,
          33800,
          59975,
          2500,
          46999,
          16700,
          34700,
          28900,
          30800,
          27100,
          13388,
          26000,
          17900,
          23400,
          29800,
          23700,
          1725,
          33995,
          23500,
          32500,
          2500,
          39000,
          11000,
          32500,
          800,
          26900,
          11200,
          21000,
          32000,
          7300,
          12800,
          24190,
          29100,
          29000,
          17300,
          19888,
          31000,
          37200,
          8600,
          24857,
          23500,
          26100,
          10800,
          20995,
          29300,
          33100,
          13800,
          19498,
          14900,
          8700,
          20600,
          5000,
          19995,
          14900,
          19500,
          24500,
          15000,
          26985,
          31000,
          24300,
          16800,
          17200,
          34995,
          24300,
          26400,
          16800,
          15500,
          19440,
          16700,
          29000,
          16100,
          17200,
          20950,
          46200,
          29400,
          2825,
          32999,
          6600,
          50200,
          28300,
          12000,
          32999,
          12600,
          5200,
          20500,
          1200,
          35999,
          41000,
          33100,
          23500,
          18799,
          33999,
          35000,
          26100,
          15400,
          25998,
          31831,
          40400,
          15400,
          13500,
          25995,
          27990,
          23985,
          27995,
          13995,
          29988,
          12995,
          21687,
          25200,
          29590,
          28999,
          13942,
          15300,
          35400,
          32700,
          13995,
          1850,
          15800,
          36000,
          15495,
          21500,
          7200,
          17589,
          31700,
          31790,
          18100,
          14495,
          15000,
          26400,
          27990,
          19700,
          15300,
          22000,
          23999,
          16488,
          12784,
          23400,
          9705,
          25999,
          34977,
          19000,
          15995,
          13487,
          18707,
          15290,
          15600,
          47000,
          16080,
          50000,
          15268,
          47500,
          18497,
          10000,
          19995,
          49000,
          17150,
          45000,
          14295,
          49000,
          16190,
          49000,
          17899,
          26000,
          14000,
          15500,
          16888,
          28000,
          8305,
          21822,
          15500,
          12500,
          15995,
          16000,
          38200,
          12995,
          14488,
          17500,
          21995,
          8500,
          16593,
          13000,
          14247,
          23500,
          16999,
          25000,
          20159,
          31000,
          22500,
          29500,
          59900,
          24000,
          20500,
          27200,
          24900,
          24500,
          34000,
          28000,
          27000,
          34000,
          42500,
          33000,
          10200,
          25600,
          16300,
          26500,
          36500,
          25900,
          22500,
          29000,
          825,
          10500,
          32000,
          27700,
          4000,
          38800,
          26200,
          19500,
          11700,
          34000,
          38600,
          21500,
          38500,
          38500,
          12000,
          30500,
          11300,
          29500,
          16100,
          32500,
          29000,
          30000,
          26000,
          26000,
          18500,
          12000,
          30000,
          14700,
          25000,
          26550,
          27000,
          34000,
          27500,
          25500,
          13500,
          4000,
          25700,
          29000,
          30500,
          30000,
          9000,
          19000,
          25800,
          26500,
          29300,
          6300,
          25400,
          26000,
          7000,
          25900,
          9700,
          27000,
          9100,
          28000,
          25700,
          27500,
          9400,
          25500,
          20500,
          21500,
          12800,
          23900,
          9400,
          26900,
          25500,
          27000,
          9300,
          14400,
          19000,
          14000,
          13600,
          19200,
          13600,
          18600,
          13700,
          18200,
          13800,
          22000,
          13700,
          28000,
          13800,
          18600,
          13700,
          13700,
          13800,
          17700,
          13900,
          13900,
          50500,
          13600,
          55000,
          13800,
          56000,
          13800,
          45800,
          13800,
          5500,
          14400,
          11450,
          11000,
          11450,
          11000,
          11200,
          11400,
          11450,
          11050,
          11400,
          11050,
          10850,
          10900,
          10450,
          10800,
          10850,
          10800,
          10850,
          10800,
          10900,
          10400,
          10500,
          10800,
          10800,
          11200,
          11100,
          12200,
          4000,
          9000,
          14900,
          4600,
          6400,
          10400,
          7800,
          12300,
          10900,
          8500,
          7300,
          5900,
          20000,
          11200,
          14400,
          16500,
          13400,
          12500,
          6500,
          19800,
          8800,
          12800,
          8800,
          3500,
          750,
          10800,
          22300,
          8300,
          8300,
          8000,
          15200,
          6700,
          7500,
          10500,
          8400,
          7000,
          25500,
          4100,
          13900,
          1900,
          14700,
          1900,
          18800,
          7800,
          13500,
          8000,
          3300,
          7200,
          8000,
          1280,
          14000,
          3500,
          600,
          12500,
          5800,
          8000,
          2200,
          8300,
          7500,
          8000,
          3500,
          8000,
          2000,
          7800,
          8000,
          18500,
          8000,
          18300,
          7500,
          29800,
          21100,
          16200,
          6998,
          14700,
          19000,
          7500,
          7998,
          10999,
          2900,
          8495,
          19925,
          9500,
          12750,
          22800,
          11621,
          11590,
          4700,
          11390,
          14500,
          12000,
          15000,
          7500,
          28000,
          17500,
          18000,
          13200,
          17000,
          6700,
          23300,
          26800,
          18200,
          18700,
          12900,
          16000,
          19400,
          10900,
          15800,
          19800,
          19000,
          18000,
          19800,
          19700,
          20100,
          19700,
          23400,
          23300,
          17500,
          17100,
          15800,
          13600,
          14400,
          19800,
          17200,
          20300,
          20500,
          16500,
          16000,
          14600,
          16300,
          15400,
          15800,
          15800,
          21400,
          15300,
          20100,
          11300,
          10700,
          16000,
          16600,
          15800,
          11600,
          15000,
          17600,
          36300,
          15600,
          14000,
          16600,
          12600,
          20900,
          12700,
          15600,
          18900,
          15700,
          21900,
          21700,
          14600,
          12000,
          21000,
          12500,
          15900,
          11800,
          9900,
          10600,
          10100,
          13300,
          10100,
          10300,
          10300,
          10300,
          24000,
          10400,
          10200,
          9500,
          10500,
          10500,
          3500,
          9300,
          14100,
          2425,
          925,
          11000,
          11000,
          2100,
          800,
          20400,
          375,
          3000,
          15100,
          4000,
          19500,
          22600,
          6500,
          11800,
          20500,
          14200,
          22000,
          16200,
          4800,
          16000,
          14300,
          16800,
          11900,
          3000,
          15000,
          15200,
          18000,
          22700,
          3800,
          5475,
          11400,
          28100,
          3500,
          15200,
          1950,
          13400,
          12500,
          16500,
          16500,
          16500,
          13900,
          13900,
          1500,
          16500,
          13900,
          16500,
          13900,
          12400,
          13000,
          16500,
          13900,
          16500,
          13900,
          13900,
          13900,
          12100,
          16500,
          16500,
          13900,
          3700,
          18800,
          9200,
          30100,
          9200,
          11100,
          13900,
          9100,
          22800,
          13900,
          12600,
          9200,
          12100,
          9200,
          2300,
          13900,
          9500,
          13900,
          1700,
          13900,
          10400,
          9200,
          7400,
          9200,
          7800,
          9200,
          9200,
          9200,
          9200
         ],
         "y0": " ",
         "yaxis": "y"
        }
       ],
       "layout": {
        "boxmode": "group",
        "legend": {
         "tracegroupgap": 0
        },
        "template": {
         "data": {
          "bar": [
           {
            "error_x": {
             "color": "#2a3f5f"
            },
            "error_y": {
             "color": "#2a3f5f"
            },
            "marker": {
             "line": {
              "color": "#E5ECF6",
              "width": 0.5
             },
             "pattern": {
              "fillmode": "overlay",
              "size": 10,
              "solidity": 0.2
             }
            },
            "type": "bar"
           }
          ],
          "barpolar": [
           {
            "marker": {
             "line": {
              "color": "#E5ECF6",
              "width": 0.5
             },
             "pattern": {
              "fillmode": "overlay",
              "size": 10,
              "solidity": 0.2
             }
            },
            "type": "barpolar"
           }
          ],
          "carpet": [
           {
            "aaxis": {
             "endlinecolor": "#2a3f5f",
             "gridcolor": "white",
             "linecolor": "white",
             "minorgridcolor": "white",
             "startlinecolor": "#2a3f5f"
            },
            "baxis": {
             "endlinecolor": "#2a3f5f",
             "gridcolor": "white",
             "linecolor": "white",
             "minorgridcolor": "white",
             "startlinecolor": "#2a3f5f"
            },
            "type": "carpet"
           }
          ],
          "choropleth": [
           {
            "colorbar": {
             "outlinewidth": 0,
             "ticks": ""
            },
            "type": "choropleth"
           }
          ],
          "contour": [
           {
            "colorbar": {
             "outlinewidth": 0,
             "ticks": ""
            },
            "colorscale": [
             [
              0,
              "#0d0887"
             ],
             [
              0.1111111111111111,
              "#46039f"
             ],
             [
              0.2222222222222222,
              "#7201a8"
             ],
             [
              0.3333333333333333,
              "#9c179e"
             ],
             [
              0.4444444444444444,
              "#bd3786"
             ],
             [
              0.5555555555555556,
              "#d8576b"
             ],
             [
              0.6666666666666666,
              "#ed7953"
             ],
             [
              0.7777777777777778,
              "#fb9f3a"
             ],
             [
              0.8888888888888888,
              "#fdca26"
             ],
             [
              1,
              "#f0f921"
             ]
            ],
            "type": "contour"
           }
          ],
          "contourcarpet": [
           {
            "colorbar": {
             "outlinewidth": 0,
             "ticks": ""
            },
            "type": "contourcarpet"
           }
          ],
          "heatmap": [
           {
            "colorbar": {
             "outlinewidth": 0,
             "ticks": ""
            },
            "colorscale": [
             [
              0,
              "#0d0887"
             ],
             [
              0.1111111111111111,
              "#46039f"
             ],
             [
              0.2222222222222222,
              "#7201a8"
             ],
             [
              0.3333333333333333,
              "#9c179e"
             ],
             [
              0.4444444444444444,
              "#bd3786"
             ],
             [
              0.5555555555555556,
              "#d8576b"
             ],
             [
              0.6666666666666666,
              "#ed7953"
             ],
             [
              0.7777777777777778,
              "#fb9f3a"
             ],
             [
              0.8888888888888888,
              "#fdca26"
             ],
             [
              1,
              "#f0f921"
             ]
            ],
            "type": "heatmap"
           }
          ],
          "heatmapgl": [
           {
            "colorbar": {
             "outlinewidth": 0,
             "ticks": ""
            },
            "colorscale": [
             [
              0,
              "#0d0887"
             ],
             [
              0.1111111111111111,
              "#46039f"
             ],
             [
              0.2222222222222222,
              "#7201a8"
             ],
             [
              0.3333333333333333,
              "#9c179e"
             ],
             [
              0.4444444444444444,
              "#bd3786"
             ],
             [
              0.5555555555555556,
              "#d8576b"
             ],
             [
              0.6666666666666666,
              "#ed7953"
             ],
             [
              0.7777777777777778,
              "#fb9f3a"
             ],
             [
              0.8888888888888888,
              "#fdca26"
             ],
             [
              1,
              "#f0f921"
             ]
            ],
            "type": "heatmapgl"
           }
          ],
          "histogram": [
           {
            "marker": {
             "pattern": {
              "fillmode": "overlay",
              "size": 10,
              "solidity": 0.2
             }
            },
            "type": "histogram"
           }
          ],
          "histogram2d": [
           {
            "colorbar": {
             "outlinewidth": 0,
             "ticks": ""
            },
            "colorscale": [
             [
              0,
              "#0d0887"
             ],
             [
              0.1111111111111111,
              "#46039f"
             ],
             [
              0.2222222222222222,
              "#7201a8"
             ],
             [
              0.3333333333333333,
              "#9c179e"
             ],
             [
              0.4444444444444444,
              "#bd3786"
             ],
             [
              0.5555555555555556,
              "#d8576b"
             ],
             [
              0.6666666666666666,
              "#ed7953"
             ],
             [
              0.7777777777777778,
              "#fb9f3a"
             ],
             [
              0.8888888888888888,
              "#fdca26"
             ],
             [
              1,
              "#f0f921"
             ]
            ],
            "type": "histogram2d"
           }
          ],
          "histogram2dcontour": [
           {
            "colorbar": {
             "outlinewidth": 0,
             "ticks": ""
            },
            "colorscale": [
             [
              0,
              "#0d0887"
             ],
             [
              0.1111111111111111,
              "#46039f"
             ],
             [
              0.2222222222222222,
              "#7201a8"
             ],
             [
              0.3333333333333333,
              "#9c179e"
             ],
             [
              0.4444444444444444,
              "#bd3786"
             ],
             [
              0.5555555555555556,
              "#d8576b"
             ],
             [
              0.6666666666666666,
              "#ed7953"
             ],
             [
              0.7777777777777778,
              "#fb9f3a"
             ],
             [
              0.8888888888888888,
              "#fdca26"
             ],
             [
              1,
              "#f0f921"
             ]
            ],
            "type": "histogram2dcontour"
           }
          ],
          "mesh3d": [
           {
            "colorbar": {
             "outlinewidth": 0,
             "ticks": ""
            },
            "type": "mesh3d"
           }
          ],
          "parcoords": [
           {
            "line": {
             "colorbar": {
              "outlinewidth": 0,
              "ticks": ""
             }
            },
            "type": "parcoords"
           }
          ],
          "pie": [
           {
            "automargin": true,
            "type": "pie"
           }
          ],
          "scatter": [
           {
            "fillpattern": {
             "fillmode": "overlay",
             "size": 10,
             "solidity": 0.2
            },
            "type": "scatter"
           }
          ],
          "scatter3d": [
           {
            "line": {
             "colorbar": {
              "outlinewidth": 0,
              "ticks": ""
             }
            },
            "marker": {
             "colorbar": {
              "outlinewidth": 0,
              "ticks": ""
             }
            },
            "type": "scatter3d"
           }
          ],
          "scattercarpet": [
           {
            "marker": {
             "colorbar": {
              "outlinewidth": 0,
              "ticks": ""
             }
            },
            "type": "scattercarpet"
           }
          ],
          "scattergeo": [
           {
            "marker": {
             "colorbar": {
              "outlinewidth": 0,
              "ticks": ""
             }
            },
            "type": "scattergeo"
           }
          ],
          "scattergl": [
           {
            "marker": {
             "colorbar": {
              "outlinewidth": 0,
              "ticks": ""
             }
            },
            "type": "scattergl"
           }
          ],
          "scattermapbox": [
           {
            "marker": {
             "colorbar": {
              "outlinewidth": 0,
              "ticks": ""
             }
            },
            "type": "scattermapbox"
           }
          ],
          "scatterpolar": [
           {
            "marker": {
             "colorbar": {
              "outlinewidth": 0,
              "ticks": ""
             }
            },
            "type": "scatterpolar"
           }
          ],
          "scatterpolargl": [
           {
            "marker": {
             "colorbar": {
              "outlinewidth": 0,
              "ticks": ""
             }
            },
            "type": "scatterpolargl"
           }
          ],
          "scatterternary": [
           {
            "marker": {
             "colorbar": {
              "outlinewidth": 0,
              "ticks": ""
             }
            },
            "type": "scatterternary"
           }
          ],
          "surface": [
           {
            "colorbar": {
             "outlinewidth": 0,
             "ticks": ""
            },
            "colorscale": [
             [
              0,
              "#0d0887"
             ],
             [
              0.1111111111111111,
              "#46039f"
             ],
             [
              0.2222222222222222,
              "#7201a8"
             ],
             [
              0.3333333333333333,
              "#9c179e"
             ],
             [
              0.4444444444444444,
              "#bd3786"
             ],
             [
              0.5555555555555556,
              "#d8576b"
             ],
             [
              0.6666666666666666,
              "#ed7953"
             ],
             [
              0.7777777777777778,
              "#fb9f3a"
             ],
             [
              0.8888888888888888,
              "#fdca26"
             ],
             [
              1,
              "#f0f921"
             ]
            ],
            "type": "surface"
           }
          ],
          "table": [
           {
            "cells": {
             "fill": {
              "color": "#EBF0F8"
             },
             "line": {
              "color": "white"
             }
            },
            "header": {
             "fill": {
              "color": "#C8D4E3"
             },
             "line": {
              "color": "white"
             }
            },
            "type": "table"
           }
          ]
         },
         "layout": {
          "annotationdefaults": {
           "arrowcolor": "#2a3f5f",
           "arrowhead": 0,
           "arrowwidth": 1
          },
          "autotypenumbers": "strict",
          "coloraxis": {
           "colorbar": {
            "outlinewidth": 0,
            "ticks": ""
           }
          },
          "colorscale": {
           "diverging": [
            [
             0,
             "#8e0152"
            ],
            [
             0.1,
             "#c51b7d"
            ],
            [
             0.2,
             "#de77ae"
            ],
            [
             0.3,
             "#f1b6da"
            ],
            [
             0.4,
             "#fde0ef"
            ],
            [
             0.5,
             "#f7f7f7"
            ],
            [
             0.6,
             "#e6f5d0"
            ],
            [
             0.7,
             "#b8e186"
            ],
            [
             0.8,
             "#7fbc41"
            ],
            [
             0.9,
             "#4d9221"
            ],
            [
             1,
             "#276419"
            ]
           ],
           "sequential": [
            [
             0,
             "#0d0887"
            ],
            [
             0.1111111111111111,
             "#46039f"
            ],
            [
             0.2222222222222222,
             "#7201a8"
            ],
            [
             0.3333333333333333,
             "#9c179e"
            ],
            [
             0.4444444444444444,
             "#bd3786"
            ],
            [
             0.5555555555555556,
             "#d8576b"
            ],
            [
             0.6666666666666666,
             "#ed7953"
            ],
            [
             0.7777777777777778,
             "#fb9f3a"
            ],
            [
             0.8888888888888888,
             "#fdca26"
            ],
            [
             1,
             "#f0f921"
            ]
           ],
           "sequentialminus": [
            [
             0,
             "#0d0887"
            ],
            [
             0.1111111111111111,
             "#46039f"
            ],
            [
             0.2222222222222222,
             "#7201a8"
            ],
            [
             0.3333333333333333,
             "#9c179e"
            ],
            [
             0.4444444444444444,
             "#bd3786"
            ],
            [
             0.5555555555555556,
             "#d8576b"
            ],
            [
             0.6666666666666666,
             "#ed7953"
            ],
            [
             0.7777777777777778,
             "#fb9f3a"
            ],
            [
             0.8888888888888888,
             "#fdca26"
            ],
            [
             1,
             "#f0f921"
            ]
           ]
          },
          "colorway": [
           "#636efa",
           "#EF553B",
           "#00cc96",
           "#ab63fa",
           "#FFA15A",
           "#19d3f3",
           "#FF6692",
           "#B6E880",
           "#FF97FF",
           "#FECB52"
          ],
          "font": {
           "color": "#2a3f5f"
          },
          "geo": {
           "bgcolor": "white",
           "lakecolor": "white",
           "landcolor": "#E5ECF6",
           "showlakes": true,
           "showland": true,
           "subunitcolor": "white"
          },
          "hoverlabel": {
           "align": "left"
          },
          "hovermode": "closest",
          "mapbox": {
           "style": "light"
          },
          "paper_bgcolor": "white",
          "plot_bgcolor": "#E5ECF6",
          "polar": {
           "angularaxis": {
            "gridcolor": "white",
            "linecolor": "white",
            "ticks": ""
           },
           "bgcolor": "#E5ECF6",
           "radialaxis": {
            "gridcolor": "white",
            "linecolor": "white",
            "ticks": ""
           }
          },
          "scene": {
           "xaxis": {
            "backgroundcolor": "#E5ECF6",
            "gridcolor": "white",
            "gridwidth": 2,
            "linecolor": "white",
            "showbackground": true,
            "ticks": "",
            "zerolinecolor": "white"
           },
           "yaxis": {
            "backgroundcolor": "#E5ECF6",
            "gridcolor": "white",
            "gridwidth": 2,
            "linecolor": "white",
            "showbackground": true,
            "ticks": "",
            "zerolinecolor": "white"
           },
           "zaxis": {
            "backgroundcolor": "#E5ECF6",
            "gridcolor": "white",
            "gridwidth": 2,
            "linecolor": "white",
            "showbackground": true,
            "ticks": "",
            "zerolinecolor": "white"
           }
          },
          "shapedefaults": {
           "line": {
            "color": "#2a3f5f"
           }
          },
          "ternary": {
           "aaxis": {
            "gridcolor": "white",
            "linecolor": "white",
            "ticks": ""
           },
           "baxis": {
            "gridcolor": "white",
            "linecolor": "white",
            "ticks": ""
           },
           "bgcolor": "#E5ECF6",
           "caxis": {
            "gridcolor": "white",
            "linecolor": "white",
            "ticks": ""
           }
          },
          "title": {
           "x": 0.05
          },
          "xaxis": {
           "automargin": true,
           "gridcolor": "white",
           "linecolor": "white",
           "ticks": "",
           "title": {
            "standoff": 15
           },
           "zerolinecolor": "white",
           "zerolinewidth": 2
          },
          "yaxis": {
           "automargin": true,
           "gridcolor": "white",
           "linecolor": "white",
           "ticks": "",
           "title": {
            "standoff": 15
           },
           "zerolinecolor": "white",
           "zerolinewidth": 2
          }
         }
        },
        "title": {
         "text": "Box Plot of Prices for Top 10 Brands"
        },
        "xaxis": {
         "anchor": "y",
         "domain": [
          0,
          1
         ],
         "title": {
          "text": "brand"
         }
        },
        "yaxis": {
         "anchor": "x",
         "domain": [
          0,
          1
         ],
         "title": {
          "text": "price"
         }
        }
       }
      }
     },
     "metadata": {},
     "output_type": "display_data"
    }
   ],
   "source": [
    "# Filter for top 10 brands by count\n",
    "top_brands = car_data['brand'].value_counts().nlargest(10).index\n",
    "filtered_data = car_data[car_data['brand'].isin(top_brands)]\n",
    "\n",
    "\n",
    "# Create a box plot\n",
    "fig_boxplot = px.box(filtered_data, x='brand', y='price',title='Box Plot of Prices for Top 10 Brands')\n",
    "fig_boxplot.show()"
   ]
  },
  {
   "cell_type": "markdown",
   "metadata": {},
   "source": [
    "### The most popular colors"
   ]
  },
  {
   "cell_type": "code",
   "execution_count": 11,
   "metadata": {},
   "outputs": [
    {
     "data": {
      "application/vnd.plotly.v1+json": {
       "config": {
        "plotlyServerURL": "https://plot.ly"
       },
       "data": [
        {
         "alignmentgroup": "True",
         "hovertemplate": "color=%{x}<br>count=%{y}<extra></extra>",
         "legendgroup": "",
         "marker": {
          "color": "#636efa",
          "pattern": {
           "shape": ""
          }
         },
         "name": "",
         "offsetgroup": "",
         "orientation": "v",
         "showlegend": false,
         "textposition": "outside",
         "texttemplate": "%{y}",
         "type": "bar",
         "x": [
          "white",
          "black",
          "gray",
          "silver",
          "red"
         ],
         "xaxis": "x",
         "y": [
          707,
          516,
          395,
          300,
          192
         ],
         "yaxis": "y"
        }
       ],
       "layout": {
        "barmode": "relative",
        "legend": {
         "tracegroupgap": 0
        },
        "template": {
         "data": {
          "bar": [
           {
            "error_x": {
             "color": "#2a3f5f"
            },
            "error_y": {
             "color": "#2a3f5f"
            },
            "marker": {
             "line": {
              "color": "#E5ECF6",
              "width": 0.5
             },
             "pattern": {
              "fillmode": "overlay",
              "size": 10,
              "solidity": 0.2
             }
            },
            "type": "bar"
           }
          ],
          "barpolar": [
           {
            "marker": {
             "line": {
              "color": "#E5ECF6",
              "width": 0.5
             },
             "pattern": {
              "fillmode": "overlay",
              "size": 10,
              "solidity": 0.2
             }
            },
            "type": "barpolar"
           }
          ],
          "carpet": [
           {
            "aaxis": {
             "endlinecolor": "#2a3f5f",
             "gridcolor": "white",
             "linecolor": "white",
             "minorgridcolor": "white",
             "startlinecolor": "#2a3f5f"
            },
            "baxis": {
             "endlinecolor": "#2a3f5f",
             "gridcolor": "white",
             "linecolor": "white",
             "minorgridcolor": "white",
             "startlinecolor": "#2a3f5f"
            },
            "type": "carpet"
           }
          ],
          "choropleth": [
           {
            "colorbar": {
             "outlinewidth": 0,
             "ticks": ""
            },
            "type": "choropleth"
           }
          ],
          "contour": [
           {
            "colorbar": {
             "outlinewidth": 0,
             "ticks": ""
            },
            "colorscale": [
             [
              0,
              "#0d0887"
             ],
             [
              0.1111111111111111,
              "#46039f"
             ],
             [
              0.2222222222222222,
              "#7201a8"
             ],
             [
              0.3333333333333333,
              "#9c179e"
             ],
             [
              0.4444444444444444,
              "#bd3786"
             ],
             [
              0.5555555555555556,
              "#d8576b"
             ],
             [
              0.6666666666666666,
              "#ed7953"
             ],
             [
              0.7777777777777778,
              "#fb9f3a"
             ],
             [
              0.8888888888888888,
              "#fdca26"
             ],
             [
              1,
              "#f0f921"
             ]
            ],
            "type": "contour"
           }
          ],
          "contourcarpet": [
           {
            "colorbar": {
             "outlinewidth": 0,
             "ticks": ""
            },
            "type": "contourcarpet"
           }
          ],
          "heatmap": [
           {
            "colorbar": {
             "outlinewidth": 0,
             "ticks": ""
            },
            "colorscale": [
             [
              0,
              "#0d0887"
             ],
             [
              0.1111111111111111,
              "#46039f"
             ],
             [
              0.2222222222222222,
              "#7201a8"
             ],
             [
              0.3333333333333333,
              "#9c179e"
             ],
             [
              0.4444444444444444,
              "#bd3786"
             ],
             [
              0.5555555555555556,
              "#d8576b"
             ],
             [
              0.6666666666666666,
              "#ed7953"
             ],
             [
              0.7777777777777778,
              "#fb9f3a"
             ],
             [
              0.8888888888888888,
              "#fdca26"
             ],
             [
              1,
              "#f0f921"
             ]
            ],
            "type": "heatmap"
           }
          ],
          "heatmapgl": [
           {
            "colorbar": {
             "outlinewidth": 0,
             "ticks": ""
            },
            "colorscale": [
             [
              0,
              "#0d0887"
             ],
             [
              0.1111111111111111,
              "#46039f"
             ],
             [
              0.2222222222222222,
              "#7201a8"
             ],
             [
              0.3333333333333333,
              "#9c179e"
             ],
             [
              0.4444444444444444,
              "#bd3786"
             ],
             [
              0.5555555555555556,
              "#d8576b"
             ],
             [
              0.6666666666666666,
              "#ed7953"
             ],
             [
              0.7777777777777778,
              "#fb9f3a"
             ],
             [
              0.8888888888888888,
              "#fdca26"
             ],
             [
              1,
              "#f0f921"
             ]
            ],
            "type": "heatmapgl"
           }
          ],
          "histogram": [
           {
            "marker": {
             "pattern": {
              "fillmode": "overlay",
              "size": 10,
              "solidity": 0.2
             }
            },
            "type": "histogram"
           }
          ],
          "histogram2d": [
           {
            "colorbar": {
             "outlinewidth": 0,
             "ticks": ""
            },
            "colorscale": [
             [
              0,
              "#0d0887"
             ],
             [
              0.1111111111111111,
              "#46039f"
             ],
             [
              0.2222222222222222,
              "#7201a8"
             ],
             [
              0.3333333333333333,
              "#9c179e"
             ],
             [
              0.4444444444444444,
              "#bd3786"
             ],
             [
              0.5555555555555556,
              "#d8576b"
             ],
             [
              0.6666666666666666,
              "#ed7953"
             ],
             [
              0.7777777777777778,
              "#fb9f3a"
             ],
             [
              0.8888888888888888,
              "#fdca26"
             ],
             [
              1,
              "#f0f921"
             ]
            ],
            "type": "histogram2d"
           }
          ],
          "histogram2dcontour": [
           {
            "colorbar": {
             "outlinewidth": 0,
             "ticks": ""
            },
            "colorscale": [
             [
              0,
              "#0d0887"
             ],
             [
              0.1111111111111111,
              "#46039f"
             ],
             [
              0.2222222222222222,
              "#7201a8"
             ],
             [
              0.3333333333333333,
              "#9c179e"
             ],
             [
              0.4444444444444444,
              "#bd3786"
             ],
             [
              0.5555555555555556,
              "#d8576b"
             ],
             [
              0.6666666666666666,
              "#ed7953"
             ],
             [
              0.7777777777777778,
              "#fb9f3a"
             ],
             [
              0.8888888888888888,
              "#fdca26"
             ],
             [
              1,
              "#f0f921"
             ]
            ],
            "type": "histogram2dcontour"
           }
          ],
          "mesh3d": [
           {
            "colorbar": {
             "outlinewidth": 0,
             "ticks": ""
            },
            "type": "mesh3d"
           }
          ],
          "parcoords": [
           {
            "line": {
             "colorbar": {
              "outlinewidth": 0,
              "ticks": ""
             }
            },
            "type": "parcoords"
           }
          ],
          "pie": [
           {
            "automargin": true,
            "type": "pie"
           }
          ],
          "scatter": [
           {
            "fillpattern": {
             "fillmode": "overlay",
             "size": 10,
             "solidity": 0.2
            },
            "type": "scatter"
           }
          ],
          "scatter3d": [
           {
            "line": {
             "colorbar": {
              "outlinewidth": 0,
              "ticks": ""
             }
            },
            "marker": {
             "colorbar": {
              "outlinewidth": 0,
              "ticks": ""
             }
            },
            "type": "scatter3d"
           }
          ],
          "scattercarpet": [
           {
            "marker": {
             "colorbar": {
              "outlinewidth": 0,
              "ticks": ""
             }
            },
            "type": "scattercarpet"
           }
          ],
          "scattergeo": [
           {
            "marker": {
             "colorbar": {
              "outlinewidth": 0,
              "ticks": ""
             }
            },
            "type": "scattergeo"
           }
          ],
          "scattergl": [
           {
            "marker": {
             "colorbar": {
              "outlinewidth": 0,
              "ticks": ""
             }
            },
            "type": "scattergl"
           }
          ],
          "scattermapbox": [
           {
            "marker": {
             "colorbar": {
              "outlinewidth": 0,
              "ticks": ""
             }
            },
            "type": "scattermapbox"
           }
          ],
          "scatterpolar": [
           {
            "marker": {
             "colorbar": {
              "outlinewidth": 0,
              "ticks": ""
             }
            },
            "type": "scatterpolar"
           }
          ],
          "scatterpolargl": [
           {
            "marker": {
             "colorbar": {
              "outlinewidth": 0,
              "ticks": ""
             }
            },
            "type": "scatterpolargl"
           }
          ],
          "scatterternary": [
           {
            "marker": {
             "colorbar": {
              "outlinewidth": 0,
              "ticks": ""
             }
            },
            "type": "scatterternary"
           }
          ],
          "surface": [
           {
            "colorbar": {
             "outlinewidth": 0,
             "ticks": ""
            },
            "colorscale": [
             [
              0,
              "#0d0887"
             ],
             [
              0.1111111111111111,
              "#46039f"
             ],
             [
              0.2222222222222222,
              "#7201a8"
             ],
             [
              0.3333333333333333,
              "#9c179e"
             ],
             [
              0.4444444444444444,
              "#bd3786"
             ],
             [
              0.5555555555555556,
              "#d8576b"
             ],
             [
              0.6666666666666666,
              "#ed7953"
             ],
             [
              0.7777777777777778,
              "#fb9f3a"
             ],
             [
              0.8888888888888888,
              "#fdca26"
             ],
             [
              1,
              "#f0f921"
             ]
            ],
            "type": "surface"
           }
          ],
          "table": [
           {
            "cells": {
             "fill": {
              "color": "#EBF0F8"
             },
             "line": {
              "color": "white"
             }
            },
            "header": {
             "fill": {
              "color": "#C8D4E3"
             },
             "line": {
              "color": "white"
             }
            },
            "type": "table"
           }
          ]
         },
         "layout": {
          "annotationdefaults": {
           "arrowcolor": "#2a3f5f",
           "arrowhead": 0,
           "arrowwidth": 1
          },
          "autotypenumbers": "strict",
          "coloraxis": {
           "colorbar": {
            "outlinewidth": 0,
            "ticks": ""
           }
          },
          "colorscale": {
           "diverging": [
            [
             0,
             "#8e0152"
            ],
            [
             0.1,
             "#c51b7d"
            ],
            [
             0.2,
             "#de77ae"
            ],
            [
             0.3,
             "#f1b6da"
            ],
            [
             0.4,
             "#fde0ef"
            ],
            [
             0.5,
             "#f7f7f7"
            ],
            [
             0.6,
             "#e6f5d0"
            ],
            [
             0.7,
             "#b8e186"
            ],
            [
             0.8,
             "#7fbc41"
            ],
            [
             0.9,
             "#4d9221"
            ],
            [
             1,
             "#276419"
            ]
           ],
           "sequential": [
            [
             0,
             "#0d0887"
            ],
            [
             0.1111111111111111,
             "#46039f"
            ],
            [
             0.2222222222222222,
             "#7201a8"
            ],
            [
             0.3333333333333333,
             "#9c179e"
            ],
            [
             0.4444444444444444,
             "#bd3786"
            ],
            [
             0.5555555555555556,
             "#d8576b"
            ],
            [
             0.6666666666666666,
             "#ed7953"
            ],
            [
             0.7777777777777778,
             "#fb9f3a"
            ],
            [
             0.8888888888888888,
             "#fdca26"
            ],
            [
             1,
             "#f0f921"
            ]
           ],
           "sequentialminus": [
            [
             0,
             "#0d0887"
            ],
            [
             0.1111111111111111,
             "#46039f"
            ],
            [
             0.2222222222222222,
             "#7201a8"
            ],
            [
             0.3333333333333333,
             "#9c179e"
            ],
            [
             0.4444444444444444,
             "#bd3786"
            ],
            [
             0.5555555555555556,
             "#d8576b"
            ],
            [
             0.6666666666666666,
             "#ed7953"
            ],
            [
             0.7777777777777778,
             "#fb9f3a"
            ],
            [
             0.8888888888888888,
             "#fdca26"
            ],
            [
             1,
             "#f0f921"
            ]
           ]
          },
          "colorway": [
           "#636efa",
           "#EF553B",
           "#00cc96",
           "#ab63fa",
           "#FFA15A",
           "#19d3f3",
           "#FF6692",
           "#B6E880",
           "#FF97FF",
           "#FECB52"
          ],
          "font": {
           "color": "#2a3f5f"
          },
          "geo": {
           "bgcolor": "white",
           "lakecolor": "white",
           "landcolor": "#E5ECF6",
           "showlakes": true,
           "showland": true,
           "subunitcolor": "white"
          },
          "hoverlabel": {
           "align": "left"
          },
          "hovermode": "closest",
          "mapbox": {
           "style": "light"
          },
          "paper_bgcolor": "white",
          "plot_bgcolor": "#E5ECF6",
          "polar": {
           "angularaxis": {
            "gridcolor": "white",
            "linecolor": "white",
            "ticks": ""
           },
           "bgcolor": "#E5ECF6",
           "radialaxis": {
            "gridcolor": "white",
            "linecolor": "white",
            "ticks": ""
           }
          },
          "scene": {
           "xaxis": {
            "backgroundcolor": "#E5ECF6",
            "gridcolor": "white",
            "gridwidth": 2,
            "linecolor": "white",
            "showbackground": true,
            "ticks": "",
            "zerolinecolor": "white"
           },
           "yaxis": {
            "backgroundcolor": "#E5ECF6",
            "gridcolor": "white",
            "gridwidth": 2,
            "linecolor": "white",
            "showbackground": true,
            "ticks": "",
            "zerolinecolor": "white"
           },
           "zaxis": {
            "backgroundcolor": "#E5ECF6",
            "gridcolor": "white",
            "gridwidth": 2,
            "linecolor": "white",
            "showbackground": true,
            "ticks": "",
            "zerolinecolor": "white"
           }
          },
          "shapedefaults": {
           "line": {
            "color": "#2a3f5f"
           }
          },
          "ternary": {
           "aaxis": {
            "gridcolor": "white",
            "linecolor": "white",
            "ticks": ""
           },
           "baxis": {
            "gridcolor": "white",
            "linecolor": "white",
            "ticks": ""
           },
           "bgcolor": "#E5ECF6",
           "caxis": {
            "gridcolor": "white",
            "linecolor": "white",
            "ticks": ""
           }
          },
          "title": {
           "x": 0.05
          },
          "xaxis": {
           "automargin": true,
           "gridcolor": "white",
           "linecolor": "white",
           "ticks": "",
           "title": {
            "standoff": 15
           },
           "zerolinecolor": "white",
           "zerolinewidth": 2
          },
          "yaxis": {
           "automargin": true,
           "gridcolor": "white",
           "linecolor": "white",
           "ticks": "",
           "title": {
            "standoff": 15
           },
           "zerolinecolor": "white",
           "zerolinewidth": 2
          }
         }
        },
        "title": {
         "text": "The Most Popular Colors"
        },
        "uniformtext": {
         "minsize": 8,
         "mode": "hide"
        },
        "xaxis": {
         "anchor": "y",
         "domain": [
          0,
          1
         ],
         "title": {
          "text": "color"
         }
        },
        "yaxis": {
         "anchor": "x",
         "domain": [
          0,
          1
         ],
         "range": [
          0,
          777.7
         ],
         "title": {
          "text": "count"
         }
        }
       }
      }
     },
     "metadata": {},
     "output_type": "display_data"
    }
   ],
   "source": [
    "color_of_car = car_data.groupby('color')['vin'].count().reset_index().sort_values('vin',ascending = False).head(5)\n",
    "color_of_car = color_of_car.rename(columns = {'vin':'count'})\n",
    "fig = px.bar(color_of_car, x='color', y='count',title='The Most Popular Colors')\n",
    "# Update the bar chart to move labels outside\n",
    "fig.update_traces(texttemplate='%{y}', textposition='outside')\n",
    "# Adjust the layout to make room for the labels\n",
    "fig.update_layout(\n",
    "    uniformtext_minsize=8,\n",
    "    uniformtext_mode='hide',\n",
    "    yaxis_range=[0, max(color_of_car['count']) * 1.1]  # Extend y-axis range by 10%\n",
    ")\n",
    "fig.show()"
   ]
  },
  {
   "cell_type": "markdown",
   "metadata": {},
   "source": [
    "### Average Price By Year (2000-2020)"
   ]
  },
  {
   "cell_type": "code",
   "execution_count": 12,
   "metadata": {},
   "outputs": [
    {
     "data": {
      "application/vnd.plotly.v1+json": {
       "config": {
        "plotlyServerURL": "https://plot.ly"
       },
       "data": [
        {
         "hovertemplate": "year=%{x}<br>average_price=%{y}<extra></extra>",
         "legendgroup": "",
         "line": {
          "color": "blue",
          "dash": "solid",
          "width": 2
         },
         "marker": {
          "color": "blue",
          "size": 8,
          "symbol": "circle"
         },
         "mode": "lines+markers",
         "name": "",
         "orientation": "v",
         "showlegend": false,
         "type": "scatter",
         "x": [
          2000,
          2001,
          2002,
          2003,
          2004,
          2005,
          2006,
          2007,
          2008,
          2009,
          2010,
          2011,
          2012,
          2013,
          2014,
          2015,
          2016,
          2017,
          2018,
          2019,
          2020
         ],
         "xaxis": "x",
         "y": [
          12718.75,
          1485,
          9150,
          10058.333333333334,
          9812.5,
          8020.833333333333,
          9343.125,
          648.3333333333334,
          8444.722222222223,
          11259.545454545454,
          4767.307692307692,
          8737.565217391304,
          7892.055555555556,
          8960.755813953489,
          11979.85576923077,
          15563.168367346938,
          18280.91133004926,
          18641.267904509285,
          19058.339240506328,
          24025.40470852018,
          25083.854166666668
         ],
         "yaxis": "y"
        }
       ],
       "layout": {
        "legend": {
         "tracegroupgap": 0
        },
        "template": {
         "data": {
          "pie": [
           {
            "automargin": true,
            "type": "pie"
           }
          ],
          "scatter": [
           {
            "line": {
             "width": 3
            },
            "marker": {
             "size": 9
            },
            "type": "scatter"
           }
          ],
          "scatter3d": [
           {
            "line": {
             "width": 3
            },
            "marker": {
             "size": 9
            },
            "type": "scatter3d"
           }
          ],
          "scattergeo": [
           {
            "line": {
             "width": 3
            },
            "marker": {
             "size": 9
            },
            "type": "scattergeo"
           }
          ],
          "scattergl": [
           {
            "line": {
             "width": 3
            },
            "marker": {
             "size": 9
            },
            "type": "scattergl"
           }
          ],
          "scatterpolar": [
           {
            "line": {
             "width": 3
            },
            "marker": {
             "size": 9
            },
            "type": "scatterpolar"
           }
          ],
          "scatterpolargl": [
           {
            "line": {
             "width": 3
            },
            "marker": {
             "size": 9
            },
            "type": "scatterpolargl"
           }
          ],
          "scatterternary": [
           {
            "line": {
             "width": 3
            },
            "marker": {
             "size": 9
            },
            "type": "scatterternary"
           }
          ],
          "table": [
           {
            "cells": {
             "height": 30
            },
            "header": {
             "height": 36
            },
            "type": "table"
           }
          ]
         },
         "layout": {
          "font": {
           "size": 18
          },
          "xaxis": {
           "title": {
            "standoff": 15
           }
          },
          "yaxis": {
           "title": {
            "standoff": 15
           }
          }
         }
        },
        "title": {
         "font": {
          "size": 20
         },
         "text": "Average Car Price by Year (2000-2020)"
        },
        "xaxis": {
         "anchor": "y",
         "domain": [
          0,
          1
         ],
         "title": {
          "text": "Year"
         }
        },
        "yaxis": {
         "anchor": "x",
         "domain": [
          0,
          1
         ],
         "showgrid": true,
         "tickprefix": "$",
         "title": {
          "text": "Average Price"
         }
        }
       }
      }
     },
     "metadata": {},
     "output_type": "display_data"
    }
   ],
   "source": [
    "# Filter data for years between 2000 and 2020\n",
    "filtered_data = car_data[(car_data['year'] >= 2000) & (car_data['year'] <= 2020)]\n",
    "\n",
    "average_price = filtered_data.groupby('year')['price'].mean().reset_index().sort_values('price',ascending = False)\n",
    "average_price = average_price.rename(columns = {'price':'average_price'})\n",
    "\n",
    "# Sort the data by year\n",
    "average_price = average_price.sort_values(by='year')\n",
    "\n",
    "# Create a line chart with enhanced style\n",
    "fig = px.line(\n",
    "    average_price, \n",
    "    x='year', \n",
    "    y='average_price', \n",
    "    title='Average Car Price by Year (2000-2020)',\n",
    "    markers=True\n",
    "\n",
    ")\n",
    "\n",
    "# Customize the layout\n",
    "fig.update_layout(\n",
    "    xaxis_title='Year',\n",
    "    yaxis_title='Average Price',\n",
    "    title_font_size=20,\n",
    "    yaxis=dict(tickprefix='$', showgrid=True),\n",
    "    template='presentation'\n",
    ")\n",
    "\n",
    "# Customize the lines and markers\n",
    "fig.update_traces(\n",
    "    line=dict(color='blue', width=2),\n",
    "    marker=dict(size=8, symbol='circle', color='blue')\n",
    ")\n",
    "\n",
    "fig.show()"
   ]
  }
 ],
 "metadata": {
  "kernelspec": {
   "display_name": "Python 3",
   "language": "python",
   "name": "python3"
  },
  "language_info": {
   "codemirror_mode": {
    "name": "ipython",
    "version": 3
   },
   "file_extension": ".py",
   "mimetype": "text/x-python",
   "name": "python",
   "nbconvert_exporter": "python",
   "pygments_lexer": "ipython3",
   "version": "3.11.5"
  }
 },
 "nbformat": 4,
 "nbformat_minor": 2
}
